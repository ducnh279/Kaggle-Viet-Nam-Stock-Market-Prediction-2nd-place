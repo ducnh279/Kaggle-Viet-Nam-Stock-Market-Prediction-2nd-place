{
 "cells": [
  {
   "cell_type": "markdown",
   "id": "33f3b5fc",
   "metadata": {},
   "source": [
    "# Better solution"
   ]
  },
  {
   "cell_type": "markdown",
   "id": "6ca1b1e1",
   "metadata": {},
   "source": [
    "### Task 1: Importing libraries needed to use"
   ]
  },
  {
   "cell_type": "code",
   "execution_count": 1,
   "id": "8ffdd521",
   "metadata": {},
   "outputs": [
    {
     "name": "stderr",
     "output_type": "stream",
     "text": [
      "C:\\Users\\HP\\anaconda3\\lib\\site-packages\\cupy\\_environment.py:213: UserWarning: CUDA path could not be detected. Set CUDA_PATH environment variable if CuPy fails to load.\n",
      "  warnings.warn(\n"
     ]
    }
   ],
   "source": [
    "import pandas as pd\n",
    "from lightgbm import LGBMRegressor\n",
    "from sklearn.preprocessing import OneHotEncoder, FunctionTransformer\n",
    "from sklearn.compose import make_column_transformer\n",
    "from sklearn.pipeline import make_pipeline\n",
    "from sklearn.model_selection import train_test_split"
   ]
  },
  {
   "cell_type": "code",
   "execution_count": 2,
   "id": "570cfd38",
   "metadata": {},
   "outputs": [
    {
     "name": "stdout",
     "output_type": "stream",
     "text": [
      "Author: Nguyen Huu Duc\n",
      "\n",
      "pandas  : 1.3.5\n",
      "lightgbm: 3.3.2\n",
      "\n"
     ]
    }
   ],
   "source": [
    "%load_ext watermark\n",
    "%watermark -a \"Nguyen Huu Duc\" -p pandas,lightgbm"
   ]
  },
  {
   "cell_type": "markdown",
   "id": "cf1e3d9a",
   "metadata": {},
   "source": [
    "### Task 2: Preparing proper form of input data for both traing and testing"
   ]
  },
  {
   "cell_type": "code",
   "execution_count": 3,
   "id": "9e9ed53c",
   "metadata": {},
   "outputs": [
    {
     "data": {
      "text/html": [
       "<div>\n",
       "<style scoped>\n",
       "    .dataframe tbody tr th:only-of-type {\n",
       "        vertical-align: middle;\n",
       "    }\n",
       "\n",
       "    .dataframe tbody tr th {\n",
       "        vertical-align: top;\n",
       "    }\n",
       "\n",
       "    .dataframe thead th {\n",
       "        text-align: right;\n",
       "    }\n",
       "</style>\n",
       "<table border=\"1\" class=\"dataframe\">\n",
       "  <thead>\n",
       "    <tr style=\"text-align: right;\">\n",
       "      <th></th>\n",
       "      <th>date</th>\n",
       "      <th>open</th>\n",
       "      <th>high</th>\n",
       "      <th>low</th>\n",
       "      <th>close</th>\n",
       "      <th>volume</th>\n",
       "      <th>symbol</th>\n",
       "    </tr>\n",
       "  </thead>\n",
       "  <tbody>\n",
       "    <tr>\n",
       "      <th>0</th>\n",
       "      <td>2021-01-04</td>\n",
       "      <td>17.05</td>\n",
       "      <td>17.70</td>\n",
       "      <td>16.90</td>\n",
       "      <td>17.55</td>\n",
       "      <td>46809600</td>\n",
       "      <td>STB</td>\n",
       "    </tr>\n",
       "    <tr>\n",
       "      <th>1</th>\n",
       "      <td>2021-01-05</td>\n",
       "      <td>17.55</td>\n",
       "      <td>17.95</td>\n",
       "      <td>17.45</td>\n",
       "      <td>17.70</td>\n",
       "      <td>23399500</td>\n",
       "      <td>STB</td>\n",
       "    </tr>\n",
       "    <tr>\n",
       "      <th>2</th>\n",
       "      <td>2021-01-06</td>\n",
       "      <td>17.90</td>\n",
       "      <td>18.35</td>\n",
       "      <td>17.70</td>\n",
       "      <td>18.00</td>\n",
       "      <td>32553600</td>\n",
       "      <td>STB</td>\n",
       "    </tr>\n",
       "    <tr>\n",
       "      <th>3</th>\n",
       "      <td>2021-01-07</td>\n",
       "      <td>18.05</td>\n",
       "      <td>18.45</td>\n",
       "      <td>17.85</td>\n",
       "      <td>18.45</td>\n",
       "      <td>40903700</td>\n",
       "      <td>STB</td>\n",
       "    </tr>\n",
       "    <tr>\n",
       "      <th>4</th>\n",
       "      <td>2021-01-08</td>\n",
       "      <td>18.80</td>\n",
       "      <td>19.50</td>\n",
       "      <td>18.65</td>\n",
       "      <td>19.40</td>\n",
       "      <td>36089200</td>\n",
       "      <td>STB</td>\n",
       "    </tr>\n",
       "    <tr>\n",
       "      <th>...</th>\n",
       "      <td>...</td>\n",
       "      <td>...</td>\n",
       "      <td>...</td>\n",
       "      <td>...</td>\n",
       "      <td>...</td>\n",
       "      <td>...</td>\n",
       "      <td>...</td>\n",
       "    </tr>\n",
       "    <tr>\n",
       "      <th>6144</th>\n",
       "      <td>2021-10-25</td>\n",
       "      <td>75.90</td>\n",
       "      <td>76.90</td>\n",
       "      <td>75.50</td>\n",
       "      <td>76.00</td>\n",
       "      <td>315300</td>\n",
       "      <td>REE</td>\n",
       "    </tr>\n",
       "    <tr>\n",
       "      <th>6145</th>\n",
       "      <td>2021-10-26</td>\n",
       "      <td>75.30</td>\n",
       "      <td>76.00</td>\n",
       "      <td>73.50</td>\n",
       "      <td>75.20</td>\n",
       "      <td>401500</td>\n",
       "      <td>REE</td>\n",
       "    </tr>\n",
       "    <tr>\n",
       "      <th>6146</th>\n",
       "      <td>2021-10-27</td>\n",
       "      <td>74.90</td>\n",
       "      <td>76.30</td>\n",
       "      <td>74.30</td>\n",
       "      <td>76.00</td>\n",
       "      <td>547600</td>\n",
       "      <td>REE</td>\n",
       "    </tr>\n",
       "    <tr>\n",
       "      <th>6147</th>\n",
       "      <td>2021-10-28</td>\n",
       "      <td>75.80</td>\n",
       "      <td>76.90</td>\n",
       "      <td>75.50</td>\n",
       "      <td>76.00</td>\n",
       "      <td>424400</td>\n",
       "      <td>REE</td>\n",
       "    </tr>\n",
       "    <tr>\n",
       "      <th>6148</th>\n",
       "      <td>2021-10-29</td>\n",
       "      <td>76.10</td>\n",
       "      <td>76.90</td>\n",
       "      <td>74.80</td>\n",
       "      <td>74.80</td>\n",
       "      <td>564000</td>\n",
       "      <td>REE</td>\n",
       "    </tr>\n",
       "  </tbody>\n",
       "</table>\n",
       "<p>6149 rows × 7 columns</p>\n",
       "</div>"
      ],
      "text/plain": [
       "            date   open   high    low  close    volume symbol\n",
       "0     2021-01-04  17.05  17.70  16.90  17.55  46809600    STB\n",
       "1     2021-01-05  17.55  17.95  17.45  17.70  23399500    STB\n",
       "2     2021-01-06  17.90  18.35  17.70  18.00  32553600    STB\n",
       "3     2021-01-07  18.05  18.45  17.85  18.45  40903700    STB\n",
       "4     2021-01-08  18.80  19.50  18.65  19.40  36089200    STB\n",
       "...          ...    ...    ...    ...    ...       ...    ...\n",
       "6144  2021-10-25  75.90  76.90  75.50  76.00    315300    REE\n",
       "6145  2021-10-26  75.30  76.00  73.50  75.20    401500    REE\n",
       "6146  2021-10-27  74.90  76.30  74.30  76.00    547600    REE\n",
       "6147  2021-10-28  75.80  76.90  75.50  76.00    424400    REE\n",
       "6148  2021-10-29  76.10  76.90  74.80  74.80    564000    REE\n",
       "\n",
       "[6149 rows x 7 columns]"
      ]
     },
     "execution_count": 3,
     "metadata": {},
     "output_type": "execute_result"
    }
   ],
   "source": [
    "# read training data \n",
    "df = pd.read_csv('price_train.csv')\n",
    "df"
   ]
  },
  {
   "cell_type": "code",
   "execution_count": 4,
   "id": "0e16b67f",
   "metadata": {},
   "outputs": [
    {
     "data": {
      "text/html": [
       "<div>\n",
       "<style scoped>\n",
       "    .dataframe tbody tr th:only-of-type {\n",
       "        vertical-align: middle;\n",
       "    }\n",
       "\n",
       "    .dataframe tbody tr th {\n",
       "        vertical-align: top;\n",
       "    }\n",
       "\n",
       "    .dataframe thead th {\n",
       "        text-align: right;\n",
       "    }\n",
       "</style>\n",
       "<table border=\"1\" class=\"dataframe\">\n",
       "  <thead>\n",
       "    <tr style=\"text-align: right;\">\n",
       "      <th></th>\n",
       "      <th>Id</th>\n",
       "      <th>Predicted</th>\n",
       "    </tr>\n",
       "  </thead>\n",
       "  <tbody>\n",
       "    <tr>\n",
       "      <th>0</th>\n",
       "      <td>2021-11-01:BID</td>\n",
       "      <td>0.0</td>\n",
       "    </tr>\n",
       "    <tr>\n",
       "      <th>1</th>\n",
       "      <td>2021-11-02:BID</td>\n",
       "      <td>0.0</td>\n",
       "    </tr>\n",
       "    <tr>\n",
       "      <th>2</th>\n",
       "      <td>2021-11-03:BID</td>\n",
       "      <td>0.0</td>\n",
       "    </tr>\n",
       "    <tr>\n",
       "      <th>3</th>\n",
       "      <td>2021-11-04:BID</td>\n",
       "      <td>0.0</td>\n",
       "    </tr>\n",
       "    <tr>\n",
       "      <th>4</th>\n",
       "      <td>2021-11-05:BID</td>\n",
       "      <td>0.0</td>\n",
       "    </tr>\n",
       "    <tr>\n",
       "      <th>...</th>\n",
       "      <td>...</td>\n",
       "      <td>...</td>\n",
       "    </tr>\n",
       "    <tr>\n",
       "      <th>625</th>\n",
       "      <td>2021-11-23:VRE</td>\n",
       "      <td>0.0</td>\n",
       "    </tr>\n",
       "    <tr>\n",
       "      <th>626</th>\n",
       "      <td>2021-11-24:VRE</td>\n",
       "      <td>0.0</td>\n",
       "    </tr>\n",
       "    <tr>\n",
       "      <th>627</th>\n",
       "      <td>2021-11-25:VRE</td>\n",
       "      <td>0.0</td>\n",
       "    </tr>\n",
       "    <tr>\n",
       "      <th>628</th>\n",
       "      <td>2021-11-26:VRE</td>\n",
       "      <td>0.0</td>\n",
       "    </tr>\n",
       "    <tr>\n",
       "      <th>629</th>\n",
       "      <td>2021-11-29:VRE</td>\n",
       "      <td>0.0</td>\n",
       "    </tr>\n",
       "  </tbody>\n",
       "</table>\n",
       "<p>630 rows × 2 columns</p>\n",
       "</div>"
      ],
      "text/plain": [
       "                 Id  Predicted\n",
       "0    2021-11-01:BID        0.0\n",
       "1    2021-11-02:BID        0.0\n",
       "2    2021-11-03:BID        0.0\n",
       "3    2021-11-04:BID        0.0\n",
       "4    2021-11-05:BID        0.0\n",
       "..              ...        ...\n",
       "625  2021-11-23:VRE        0.0\n",
       "626  2021-11-24:VRE        0.0\n",
       "627  2021-11-25:VRE        0.0\n",
       "628  2021-11-26:VRE        0.0\n",
       "629  2021-11-29:VRE        0.0\n",
       "\n",
       "[630 rows x 2 columns]"
      ]
     },
     "execution_count": 4,
     "metadata": {},
     "output_type": "execute_result"
    }
   ],
   "source": [
    "# Note: don't use the 'price_test.csv' \n",
    "sub = pd.read_csv('sample_submission.csv')\n",
    "sub"
   ]
  },
  {
   "cell_type": "code",
   "execution_count": 5,
   "id": "52d91394",
   "metadata": {},
   "outputs": [
    {
     "data": {
      "text/html": [
       "<div>\n",
       "<style scoped>\n",
       "    .dataframe tbody tr th:only-of-type {\n",
       "        vertical-align: middle;\n",
       "    }\n",
       "\n",
       "    .dataframe tbody tr th {\n",
       "        vertical-align: top;\n",
       "    }\n",
       "\n",
       "    .dataframe thead th {\n",
       "        text-align: right;\n",
       "    }\n",
       "</style>\n",
       "<table border=\"1\" class=\"dataframe\">\n",
       "  <thead>\n",
       "    <tr style=\"text-align: right;\">\n",
       "      <th></th>\n",
       "      <th>date</th>\n",
       "      <th>symbol</th>\n",
       "    </tr>\n",
       "  </thead>\n",
       "  <tbody>\n",
       "    <tr>\n",
       "      <th>0</th>\n",
       "      <td>2021-11-01</td>\n",
       "      <td>BID</td>\n",
       "    </tr>\n",
       "    <tr>\n",
       "      <th>1</th>\n",
       "      <td>2021-11-02</td>\n",
       "      <td>BID</td>\n",
       "    </tr>\n",
       "    <tr>\n",
       "      <th>2</th>\n",
       "      <td>2021-11-03</td>\n",
       "      <td>BID</td>\n",
       "    </tr>\n",
       "    <tr>\n",
       "      <th>3</th>\n",
       "      <td>2021-11-04</td>\n",
       "      <td>BID</td>\n",
       "    </tr>\n",
       "    <tr>\n",
       "      <th>4</th>\n",
       "      <td>2021-11-05</td>\n",
       "      <td>BID</td>\n",
       "    </tr>\n",
       "    <tr>\n",
       "      <th>...</th>\n",
       "      <td>...</td>\n",
       "      <td>...</td>\n",
       "    </tr>\n",
       "    <tr>\n",
       "      <th>625</th>\n",
       "      <td>2021-11-23</td>\n",
       "      <td>VRE</td>\n",
       "    </tr>\n",
       "    <tr>\n",
       "      <th>626</th>\n",
       "      <td>2021-11-24</td>\n",
       "      <td>VRE</td>\n",
       "    </tr>\n",
       "    <tr>\n",
       "      <th>627</th>\n",
       "      <td>2021-11-25</td>\n",
       "      <td>VRE</td>\n",
       "    </tr>\n",
       "    <tr>\n",
       "      <th>628</th>\n",
       "      <td>2021-11-26</td>\n",
       "      <td>VRE</td>\n",
       "    </tr>\n",
       "    <tr>\n",
       "      <th>629</th>\n",
       "      <td>2021-11-29</td>\n",
       "      <td>VRE</td>\n",
       "    </tr>\n",
       "  </tbody>\n",
       "</table>\n",
       "<p>630 rows × 2 columns</p>\n",
       "</div>"
      ],
      "text/plain": [
       "           date symbol\n",
       "0    2021-11-01    BID\n",
       "1    2021-11-02    BID\n",
       "2    2021-11-03    BID\n",
       "3    2021-11-04    BID\n",
       "4    2021-11-05    BID\n",
       "..          ...    ...\n",
       "625  2021-11-23    VRE\n",
       "626  2021-11-24    VRE\n",
       "627  2021-11-25    VRE\n",
       "628  2021-11-26    VRE\n",
       "629  2021-11-29    VRE\n",
       "\n",
       "[630 rows x 2 columns]"
      ]
     },
     "execution_count": 5,
     "metadata": {},
     "output_type": "execute_result"
    }
   ],
   "source": [
    "# create a df_test\n",
    "data = [i for i in sub['Id'].str.split(':')]\n",
    "\n",
    "df_test = pd.DataFrame(data, columns=['date', 'symbol'])\n",
    "df_test"
   ]
  },
  {
   "cell_type": "markdown",
   "id": "c7905448",
   "metadata": {},
   "source": [
    "### Task 3: Create a custom function transformer for feature engineering with datetime"
   ]
  },
  {
   "cell_type": "code",
   "execution_count": 6,
   "id": "c043acdc",
   "metadata": {},
   "outputs": [],
   "source": [
    "# define a function to create \"month\" and \"day of year\" features\n",
    "def datetime_features(df):\n",
    "    df = pd.DataFrame(df)\n",
    "    df['date'] = pd.to_datetime(df['date'])\n",
    "    df['month'] = df['date'].dt.month \n",
    "    df['day_of_year'] = df['date'].dt.dayofyear\n",
    "    return df[['month', 'day_of_year']]"
   ]
  },
  {
   "cell_type": "code",
   "execution_count": 7,
   "id": "a3cc67b9",
   "metadata": {},
   "outputs": [],
   "source": [
    "# make a custom transformer\n",
    "make_datetime_features = FunctionTransformer(datetime_features)"
   ]
  },
  {
   "cell_type": "code",
   "execution_count": 8,
   "id": "50ddf58c",
   "metadata": {},
   "outputs": [
    {
     "data": {
      "text/html": [
       "<div>\n",
       "<style scoped>\n",
       "    .dataframe tbody tr th:only-of-type {\n",
       "        vertical-align: middle;\n",
       "    }\n",
       "\n",
       "    .dataframe tbody tr th {\n",
       "        vertical-align: top;\n",
       "    }\n",
       "\n",
       "    .dataframe thead th {\n",
       "        text-align: right;\n",
       "    }\n",
       "</style>\n",
       "<table border=\"1\" class=\"dataframe\">\n",
       "  <thead>\n",
       "    <tr style=\"text-align: right;\">\n",
       "      <th></th>\n",
       "      <th>month</th>\n",
       "      <th>day_of_year</th>\n",
       "    </tr>\n",
       "  </thead>\n",
       "  <tbody>\n",
       "    <tr>\n",
       "      <th>0</th>\n",
       "      <td>1</td>\n",
       "      <td>4</td>\n",
       "    </tr>\n",
       "    <tr>\n",
       "      <th>1</th>\n",
       "      <td>1</td>\n",
       "      <td>5</td>\n",
       "    </tr>\n",
       "    <tr>\n",
       "      <th>2</th>\n",
       "      <td>1</td>\n",
       "      <td>6</td>\n",
       "    </tr>\n",
       "    <tr>\n",
       "      <th>3</th>\n",
       "      <td>1</td>\n",
       "      <td>7</td>\n",
       "    </tr>\n",
       "    <tr>\n",
       "      <th>4</th>\n",
       "      <td>1</td>\n",
       "      <td>8</td>\n",
       "    </tr>\n",
       "    <tr>\n",
       "      <th>...</th>\n",
       "      <td>...</td>\n",
       "      <td>...</td>\n",
       "    </tr>\n",
       "    <tr>\n",
       "      <th>6144</th>\n",
       "      <td>10</td>\n",
       "      <td>298</td>\n",
       "    </tr>\n",
       "    <tr>\n",
       "      <th>6145</th>\n",
       "      <td>10</td>\n",
       "      <td>299</td>\n",
       "    </tr>\n",
       "    <tr>\n",
       "      <th>6146</th>\n",
       "      <td>10</td>\n",
       "      <td>300</td>\n",
       "    </tr>\n",
       "    <tr>\n",
       "      <th>6147</th>\n",
       "      <td>10</td>\n",
       "      <td>301</td>\n",
       "    </tr>\n",
       "    <tr>\n",
       "      <th>6148</th>\n",
       "      <td>10</td>\n",
       "      <td>302</td>\n",
       "    </tr>\n",
       "  </tbody>\n",
       "</table>\n",
       "<p>6149 rows × 2 columns</p>\n",
       "</div>"
      ],
      "text/plain": [
       "      month  day_of_year\n",
       "0         1            4\n",
       "1         1            5\n",
       "2         1            6\n",
       "3         1            7\n",
       "4         1            8\n",
       "...     ...          ...\n",
       "6144     10          298\n",
       "6145     10          299\n",
       "6146     10          300\n",
       "6147     10          301\n",
       "6148     10          302\n",
       "\n",
       "[6149 rows x 2 columns]"
      ]
     },
     "execution_count": 8,
     "metadata": {},
     "output_type": "execute_result"
    }
   ],
   "source": [
    "# check whether the custom function works or not by trying \"fit_transform\" method\n",
    "make_datetime_features.fit_transform(df[['date']])"
   ]
  },
  {
   "cell_type": "markdown",
   "id": "bd805c2a",
   "metadata": {},
   "source": [
    "### Task 4: Create transformers and pipelines"
   ]
  },
  {
   "cell_type": "code",
   "execution_count": 9,
   "id": "050b14bb",
   "metadata": {},
   "outputs": [],
   "source": [
    "# model\n",
    "lgb_reg = LGBMRegressor(n_estimators=300, \n",
    "                       learning_rate=0.3, \n",
    "                       random_state=1, \n",
    "                       n_jobs=-1)\n",
    "\n",
    "# transformers\n",
    "ohe = OneHotEncoder(handle_unknown='ignore')\n",
    "ct = make_column_transformer((ohe, ['symbol']), \n",
    "                             (make_datetime_features, ['date']))\n",
    "# create a pipeline\n",
    "pipe = make_pipeline(ct, lgb_reg)"
   ]
  },
  {
   "cell_type": "markdown",
   "id": "558d2045",
   "metadata": {},
   "source": [
    "### Task 5: Fit the model with the validation set "
   ]
  },
  {
   "cell_type": "code",
   "execution_count": 10,
   "id": "561df12f",
   "metadata": {},
   "outputs": [],
   "source": [
    "features = ['date', 'symbol']\n",
    "\n",
    "X = df[['symbol', 'date']]\n",
    "y = df['close']"
   ]
  },
  {
   "cell_type": "code",
   "execution_count": 11,
   "id": "8c307666",
   "metadata": {},
   "outputs": [],
   "source": [
    "X_train, X_test, y_train, y_test = train_test_split(X, y, random_state=1)"
   ]
  },
  {
   "cell_type": "code",
   "execution_count": 12,
   "id": "1a3c992c",
   "metadata": {},
   "outputs": [],
   "source": [
    "X = ct.fit_transform(X).toarray()"
   ]
  },
  {
   "cell_type": "code",
   "execution_count": 13,
   "id": "59c0a2df",
   "metadata": {},
   "outputs": [],
   "source": [
    "X_train = ct.fit_transform(X_train).toarray()\n",
    "X_test = ct.transform(X_test).toarray()"
   ]
  },
  {
   "cell_type": "code",
   "execution_count": 14,
   "id": "403c693b",
   "metadata": {
    "scrolled": true
   },
   "outputs": [
    {
     "name": "stdout",
     "output_type": "stream",
     "text": [
      "[1]\tvalid_0's l2: 660.45\tvalid_1's l2: 645.829\n",
      "[2]\tvalid_0's l2: 347.669\tvalid_1's l2: 336.92\n",
      "[3]\tvalid_0's l2: 188.647\tvalid_1's l2: 182.609\n",
      "[4]\tvalid_0's l2: 109.273\tvalid_1's l2: 104.461\n",
      "[5]\tvalid_0's l2: 67.513\tvalid_1's l2: 64.4485\n",
      "[6]\tvalid_0's l2: 45.2112\tvalid_1's l2: 42.6165\n",
      "[7]\tvalid_0's l2: 32.0665\tvalid_1's l2: 29.9868\n",
      "[8]\tvalid_0's l2: 24.6151\tvalid_1's l2: 22.8361\n",
      "[9]\tvalid_0's l2: 19.7889\tvalid_1's l2: 17.9154\n",
      "[10]\tvalid_0's l2: 16.5532\tvalid_1's l2: 14.9826\n",
      "[11]\tvalid_0's l2: 13.9147\tvalid_1's l2: 12.3215\n",
      "[12]\tvalid_0's l2: 12.4418\tvalid_1's l2: 11.0323\n",
      "[13]\tvalid_0's l2: 11.2368\tvalid_1's l2: 9.91608\n",
      "[14]\tvalid_0's l2: 10.3908\tvalid_1's l2: 9.11974\n",
      "[15]\tvalid_0's l2: 9.45372\tvalid_1's l2: 8.03913\n",
      "[16]\tvalid_0's l2: 8.8261\tvalid_1's l2: 7.44306\n",
      "[17]\tvalid_0's l2: 8.21979\tvalid_1's l2: 6.88611\n",
      "[18]\tvalid_0's l2: 7.96446\tvalid_1's l2: 6.64543\n",
      "[19]\tvalid_0's l2: 7.3442\tvalid_1's l2: 6.017\n",
      "[20]\tvalid_0's l2: 6.91003\tvalid_1's l2: 5.66931\n",
      "[21]\tvalid_0's l2: 6.56737\tvalid_1's l2: 5.39703\n",
      "[22]\tvalid_0's l2: 6.07314\tvalid_1's l2: 5.02413\n",
      "[23]\tvalid_0's l2: 5.71747\tvalid_1's l2: 4.75201\n",
      "[24]\tvalid_0's l2: 5.50366\tvalid_1's l2: 4.53769\n",
      "[25]\tvalid_0's l2: 5.31386\tvalid_1's l2: 4.35414\n",
      "[26]\tvalid_0's l2: 5.17794\tvalid_1's l2: 4.2546\n",
      "[27]\tvalid_0's l2: 4.99035\tvalid_1's l2: 4.06901\n",
      "[28]\tvalid_0's l2: 4.88493\tvalid_1's l2: 3.98245\n",
      "[29]\tvalid_0's l2: 4.65685\tvalid_1's l2: 3.83459\n",
      "[30]\tvalid_0's l2: 4.49166\tvalid_1's l2: 3.67019\n",
      "[31]\tvalid_0's l2: 4.38141\tvalid_1's l2: 3.58065\n",
      "[32]\tvalid_0's l2: 4.25001\tvalid_1's l2: 3.47532\n",
      "[33]\tvalid_0's l2: 4.13625\tvalid_1's l2: 3.38162\n",
      "[34]\tvalid_0's l2: 4.01138\tvalid_1's l2: 3.2837\n",
      "[35]\tvalid_0's l2: 3.92716\tvalid_1's l2: 3.21168\n",
      "[36]\tvalid_0's l2: 3.84935\tvalid_1's l2: 3.159\n",
      "[37]\tvalid_0's l2: 3.77539\tvalid_1's l2: 3.11097\n",
      "[38]\tvalid_0's l2: 3.70516\tvalid_1's l2: 3.03775\n",
      "[39]\tvalid_0's l2: 3.61003\tvalid_1's l2: 2.96663\n",
      "[40]\tvalid_0's l2: 3.54503\tvalid_1's l2: 2.90667\n",
      "[41]\tvalid_0's l2: 3.47614\tvalid_1's l2: 2.84836\n",
      "[42]\tvalid_0's l2: 3.41767\tvalid_1's l2: 2.79595\n",
      "[43]\tvalid_0's l2: 3.35298\tvalid_1's l2: 2.72893\n",
      "[44]\tvalid_0's l2: 3.28028\tvalid_1's l2: 2.67407\n",
      "[45]\tvalid_0's l2: 3.21936\tvalid_1's l2: 2.62918\n",
      "[46]\tvalid_0's l2: 3.18405\tvalid_1's l2: 2.59608\n",
      "[47]\tvalid_0's l2: 3.13514\tvalid_1's l2: 2.55451\n",
      "[48]\tvalid_0's l2: 3.08665\tvalid_1's l2: 2.52881\n",
      "[49]\tvalid_0's l2: 3.02902\tvalid_1's l2: 2.49875\n",
      "[50]\tvalid_0's l2: 2.95033\tvalid_1's l2: 2.47903\n",
      "[51]\tvalid_0's l2: 2.91486\tvalid_1's l2: 2.44665\n",
      "[52]\tvalid_0's l2: 2.88225\tvalid_1's l2: 2.42536\n",
      "[53]\tvalid_0's l2: 2.85605\tvalid_1's l2: 2.39494\n",
      "[54]\tvalid_0's l2: 2.82351\tvalid_1's l2: 2.37329\n",
      "[55]\tvalid_0's l2: 2.7885\tvalid_1's l2: 2.32381\n",
      "[56]\tvalid_0's l2: 2.74755\tvalid_1's l2: 2.30306\n",
      "[57]\tvalid_0's l2: 2.72958\tvalid_1's l2: 2.28512\n",
      "[58]\tvalid_0's l2: 2.69065\tvalid_1's l2: 2.27526\n",
      "[59]\tvalid_0's l2: 2.65786\tvalid_1's l2: 2.24585\n",
      "[60]\tvalid_0's l2: 2.63553\tvalid_1's l2: 2.23598\n",
      "[61]\tvalid_0's l2: 2.60941\tvalid_1's l2: 2.21658\n",
      "[62]\tvalid_0's l2: 2.58533\tvalid_1's l2: 2.17855\n",
      "[63]\tvalid_0's l2: 2.55801\tvalid_1's l2: 2.16396\n",
      "[64]\tvalid_0's l2: 2.53791\tvalid_1's l2: 2.14908\n",
      "[65]\tvalid_0's l2: 2.51384\tvalid_1's l2: 2.13907\n",
      "[66]\tvalid_0's l2: 2.49609\tvalid_1's l2: 2.11686\n",
      "[67]\tvalid_0's l2: 2.47988\tvalid_1's l2: 2.10503\n",
      "[68]\tvalid_0's l2: 2.45393\tvalid_1's l2: 2.09147\n",
      "[69]\tvalid_0's l2: 2.4334\tvalid_1's l2: 2.05725\n",
      "[70]\tvalid_0's l2: 2.40288\tvalid_1's l2: 2.04639\n",
      "[71]\tvalid_0's l2: 2.3807\tvalid_1's l2: 2.02189\n",
      "[72]\tvalid_0's l2: 2.36677\tvalid_1's l2: 2.01378\n",
      "[73]\tvalid_0's l2: 2.34982\tvalid_1's l2: 1.99727\n",
      "[74]\tvalid_0's l2: 2.32377\tvalid_1's l2: 1.98565\n",
      "[75]\tvalid_0's l2: 2.30597\tvalid_1's l2: 1.95571\n",
      "[76]\tvalid_0's l2: 2.2767\tvalid_1's l2: 1.9423\n",
      "[77]\tvalid_0's l2: 2.25017\tvalid_1's l2: 1.93207\n",
      "[78]\tvalid_0's l2: 2.23264\tvalid_1's l2: 1.92323\n",
      "[79]\tvalid_0's l2: 2.21639\tvalid_1's l2: 1.9015\n",
      "[80]\tvalid_0's l2: 2.19539\tvalid_1's l2: 1.89477\n",
      "[81]\tvalid_0's l2: 2.17911\tvalid_1's l2: 1.88759\n",
      "[82]\tvalid_0's l2: 2.16931\tvalid_1's l2: 1.86734\n",
      "[83]\tvalid_0's l2: 2.15475\tvalid_1's l2: 1.84616\n",
      "[84]\tvalid_0's l2: 2.13813\tvalid_1's l2: 1.83218\n",
      "[85]\tvalid_0's l2: 2.12719\tvalid_1's l2: 1.81823\n",
      "[86]\tvalid_0's l2: 2.11662\tvalid_1's l2: 1.81139\n",
      "[87]\tvalid_0's l2: 2.1029\tvalid_1's l2: 1.80539\n",
      "[88]\tvalid_0's l2: 2.08973\tvalid_1's l2: 1.79317\n",
      "[89]\tvalid_0's l2: 2.07981\tvalid_1's l2: 1.78135\n",
      "[90]\tvalid_0's l2: 2.06748\tvalid_1's l2: 1.77298\n",
      "[91]\tvalid_0's l2: 2.05912\tvalid_1's l2: 1.76367\n",
      "[92]\tvalid_0's l2: 2.0453\tvalid_1's l2: 1.7568\n",
      "[93]\tvalid_0's l2: 2.03615\tvalid_1's l2: 1.74857\n",
      "[94]\tvalid_0's l2: 2.01438\tvalid_1's l2: 1.74599\n",
      "[95]\tvalid_0's l2: 2.00294\tvalid_1's l2: 1.73179\n",
      "[96]\tvalid_0's l2: 1.99206\tvalid_1's l2: 1.71653\n",
      "[97]\tvalid_0's l2: 1.97945\tvalid_1's l2: 1.70441\n",
      "[98]\tvalid_0's l2: 1.96822\tvalid_1's l2: 1.69386\n",
      "[99]\tvalid_0's l2: 1.95334\tvalid_1's l2: 1.68055\n",
      "[100]\tvalid_0's l2: 1.94143\tvalid_1's l2: 1.67064\n",
      "[101]\tvalid_0's l2: 1.93274\tvalid_1's l2: 1.6653\n",
      "[102]\tvalid_0's l2: 1.92232\tvalid_1's l2: 1.66195\n",
      "[103]\tvalid_0's l2: 1.90626\tvalid_1's l2: 1.65734\n",
      "[104]\tvalid_0's l2: 1.89623\tvalid_1's l2: 1.64706\n",
      "[105]\tvalid_0's l2: 1.88769\tvalid_1's l2: 1.63641\n",
      "[106]\tvalid_0's l2: 1.87674\tvalid_1's l2: 1.62784\n",
      "[107]\tvalid_0's l2: 1.86775\tvalid_1's l2: 1.62574\n",
      "[108]\tvalid_0's l2: 1.85153\tvalid_1's l2: 1.61758\n",
      "[109]\tvalid_0's l2: 1.84296\tvalid_1's l2: 1.60986\n",
      "[110]\tvalid_0's l2: 1.83808\tvalid_1's l2: 1.59776\n",
      "[111]\tvalid_0's l2: 1.82755\tvalid_1's l2: 1.59025\n",
      "[112]\tvalid_0's l2: 1.81965\tvalid_1's l2: 1.58123\n",
      "[113]\tvalid_0's l2: 1.80775\tvalid_1's l2: 1.5767\n",
      "[114]\tvalid_0's l2: 1.80171\tvalid_1's l2: 1.56638\n",
      "[115]\tvalid_0's l2: 1.79545\tvalid_1's l2: 1.56186\n",
      "[116]\tvalid_0's l2: 1.78893\tvalid_1's l2: 1.547\n",
      "[117]\tvalid_0's l2: 1.77243\tvalid_1's l2: 1.53802\n",
      "[118]\tvalid_0's l2: 1.76194\tvalid_1's l2: 1.53458\n",
      "[119]\tvalid_0's l2: 1.75081\tvalid_1's l2: 1.52879\n",
      "[120]\tvalid_0's l2: 1.74262\tvalid_1's l2: 1.52348\n",
      "[121]\tvalid_0's l2: 1.72878\tvalid_1's l2: 1.51097\n",
      "[122]\tvalid_0's l2: 1.71963\tvalid_1's l2: 1.50743\n",
      "[123]\tvalid_0's l2: 1.71106\tvalid_1's l2: 1.49923\n",
      "[124]\tvalid_0's l2: 1.70188\tvalid_1's l2: 1.4924\n",
      "[125]\tvalid_0's l2: 1.69379\tvalid_1's l2: 1.48608\n",
      "[126]\tvalid_0's l2: 1.68725\tvalid_1's l2: 1.47865\n",
      "[127]\tvalid_0's l2: 1.67511\tvalid_1's l2: 1.47063\n",
      "[128]\tvalid_0's l2: 1.6668\tvalid_1's l2: 1.46999\n",
      "[129]\tvalid_0's l2: 1.66081\tvalid_1's l2: 1.45778\n",
      "[130]\tvalid_0's l2: 1.65391\tvalid_1's l2: 1.44895\n",
      "[131]\tvalid_0's l2: 1.64901\tvalid_1's l2: 1.44244\n",
      "[132]\tvalid_0's l2: 1.64194\tvalid_1's l2: 1.43461\n",
      "[133]\tvalid_0's l2: 1.63648\tvalid_1's l2: 1.432\n",
      "[134]\tvalid_0's l2: 1.6294\tvalid_1's l2: 1.4216\n",
      "[135]\tvalid_0's l2: 1.6219\tvalid_1's l2: 1.41165\n",
      "[136]\tvalid_0's l2: 1.61367\tvalid_1's l2: 1.40522\n",
      "[137]\tvalid_0's l2: 1.59602\tvalid_1's l2: 1.4038\n",
      "[138]\tvalid_0's l2: 1.58506\tvalid_1's l2: 1.39358\n",
      "[139]\tvalid_0's l2: 1.57938\tvalid_1's l2: 1.38716\n",
      "[140]\tvalid_0's l2: 1.56817\tvalid_1's l2: 1.38115\n",
      "[141]\tvalid_0's l2: 1.56105\tvalid_1's l2: 1.37248\n",
      "[142]\tvalid_0's l2: 1.55538\tvalid_1's l2: 1.36752\n",
      "[143]\tvalid_0's l2: 1.54472\tvalid_1's l2: 1.36307\n",
      "[144]\tvalid_0's l2: 1.53217\tvalid_1's l2: 1.349\n",
      "[145]\tvalid_0's l2: 1.52597\tvalid_1's l2: 1.33942\n",
      "[146]\tvalid_0's l2: 1.5117\tvalid_1's l2: 1.34214\n",
      "[147]\tvalid_0's l2: 1.50701\tvalid_1's l2: 1.33029\n",
      "[148]\tvalid_0's l2: 1.49669\tvalid_1's l2: 1.32256\n",
      "[149]\tvalid_0's l2: 1.48878\tvalid_1's l2: 1.3186\n",
      "[150]\tvalid_0's l2: 1.48453\tvalid_1's l2: 1.31461\n",
      "[151]\tvalid_0's l2: 1.47312\tvalid_1's l2: 1.31346\n",
      "[152]\tvalid_0's l2: 1.46754\tvalid_1's l2: 1.30964\n",
      "[153]\tvalid_0's l2: 1.46097\tvalid_1's l2: 1.30138\n",
      "[154]\tvalid_0's l2: 1.4567\tvalid_1's l2: 1.29704\n",
      "[155]\tvalid_0's l2: 1.45214\tvalid_1's l2: 1.29126\n",
      "[156]\tvalid_0's l2: 1.44709\tvalid_1's l2: 1.28395\n",
      "[157]\tvalid_0's l2: 1.44286\tvalid_1's l2: 1.28139\n",
      "[158]\tvalid_0's l2: 1.43539\tvalid_1's l2: 1.27775\n",
      "[159]\tvalid_0's l2: 1.42864\tvalid_1's l2: 1.27405\n",
      "[160]\tvalid_0's l2: 1.42188\tvalid_1's l2: 1.26735\n",
      "[161]\tvalid_0's l2: 1.41777\tvalid_1's l2: 1.26125\n",
      "[162]\tvalid_0's l2: 1.41289\tvalid_1's l2: 1.2538\n",
      "[163]\tvalid_0's l2: 1.40689\tvalid_1's l2: 1.24827\n",
      "[164]\tvalid_0's l2: 1.40155\tvalid_1's l2: 1.24608\n",
      "[165]\tvalid_0's l2: 1.39482\tvalid_1's l2: 1.24209\n",
      "[166]\tvalid_0's l2: 1.38537\tvalid_1's l2: 1.23946\n",
      "[167]\tvalid_0's l2: 1.38054\tvalid_1's l2: 1.23744\n",
      "[168]\tvalid_0's l2: 1.37507\tvalid_1's l2: 1.23523\n",
      "[169]\tvalid_0's l2: 1.36963\tvalid_1's l2: 1.23242\n",
      "[170]\tvalid_0's l2: 1.3659\tvalid_1's l2: 1.22359\n",
      "[171]\tvalid_0's l2: 1.35541\tvalid_1's l2: 1.21915\n",
      "[172]\tvalid_0's l2: 1.35108\tvalid_1's l2: 1.21415\n",
      "[173]\tvalid_0's l2: 1.3402\tvalid_1's l2: 1.21024\n",
      "[174]\tvalid_0's l2: 1.33563\tvalid_1's l2: 1.20533\n",
      "[175]\tvalid_0's l2: 1.32937\tvalid_1's l2: 1.19815\n",
      "[176]\tvalid_0's l2: 1.32548\tvalid_1's l2: 1.19518\n",
      "[177]\tvalid_0's l2: 1.31921\tvalid_1's l2: 1.19218\n",
      "[178]\tvalid_0's l2: 1.31027\tvalid_1's l2: 1.19134\n",
      "[179]\tvalid_0's l2: 1.30746\tvalid_1's l2: 1.18929\n",
      "[180]\tvalid_0's l2: 1.30281\tvalid_1's l2: 1.18146\n",
      "[181]\tvalid_0's l2: 1.29654\tvalid_1's l2: 1.17984\n",
      "[182]\tvalid_0's l2: 1.29133\tvalid_1's l2: 1.17797\n",
      "[183]\tvalid_0's l2: 1.28797\tvalid_1's l2: 1.1697\n",
      "[184]\tvalid_0's l2: 1.27761\tvalid_1's l2: 1.17064\n",
      "[185]\tvalid_0's l2: 1.27336\tvalid_1's l2: 1.16707\n",
      "[186]\tvalid_0's l2: 1.26984\tvalid_1's l2: 1.16439\n",
      "[187]\tvalid_0's l2: 1.26671\tvalid_1's l2: 1.15936\n",
      "[188]\tvalid_0's l2: 1.26273\tvalid_1's l2: 1.15362\n",
      "[189]\tvalid_0's l2: 1.25639\tvalid_1's l2: 1.1492\n",
      "[190]\tvalid_0's l2: 1.25031\tvalid_1's l2: 1.14483\n",
      "[191]\tvalid_0's l2: 1.24005\tvalid_1's l2: 1.1481\n",
      "[192]\tvalid_0's l2: 1.23563\tvalid_1's l2: 1.14538\n",
      "[193]\tvalid_0's l2: 1.2313\tvalid_1's l2: 1.13854\n",
      "[194]\tvalid_0's l2: 1.22895\tvalid_1's l2: 1.1336\n",
      "[195]\tvalid_0's l2: 1.22551\tvalid_1's l2: 1.13085\n",
      "[196]\tvalid_0's l2: 1.22249\tvalid_1's l2: 1.12363\n",
      "[197]\tvalid_0's l2: 1.2183\tvalid_1's l2: 1.11957\n",
      "[198]\tvalid_0's l2: 1.2067\tvalid_1's l2: 1.12017\n",
      "[199]\tvalid_0's l2: 1.20369\tvalid_1's l2: 1.11551\n",
      "[200]\tvalid_0's l2: 1.19841\tvalid_1's l2: 1.11277\n",
      "[201]\tvalid_0's l2: 1.19101\tvalid_1's l2: 1.1115\n",
      "[202]\tvalid_0's l2: 1.18815\tvalid_1's l2: 1.10709\n",
      "[203]\tvalid_0's l2: 1.18374\tvalid_1's l2: 1.10293\n",
      "[204]\tvalid_0's l2: 1.17933\tvalid_1's l2: 1.10009\n",
      "[205]\tvalid_0's l2: 1.17544\tvalid_1's l2: 1.09513\n",
      "[206]\tvalid_0's l2: 1.17197\tvalid_1's l2: 1.08832\n",
      "[207]\tvalid_0's l2: 1.16856\tvalid_1's l2: 1.08766\n",
      "[208]\tvalid_0's l2: 1.16327\tvalid_1's l2: 1.08377\n",
      "[209]\tvalid_0's l2: 1.15881\tvalid_1's l2: 1.08048\n",
      "[210]\tvalid_0's l2: 1.15519\tvalid_1's l2: 1.07466\n",
      "[211]\tvalid_0's l2: 1.15101\tvalid_1's l2: 1.07486\n",
      "[212]\tvalid_0's l2: 1.14688\tvalid_1's l2: 1.0733\n",
      "[213]\tvalid_0's l2: 1.14053\tvalid_1's l2: 1.06826\n",
      "[214]\tvalid_0's l2: 1.13795\tvalid_1's l2: 1.06429\n",
      "[215]\tvalid_0's l2: 1.13379\tvalid_1's l2: 1.0615\n",
      "[216]\tvalid_0's l2: 1.12942\tvalid_1's l2: 1.05805\n",
      "[217]\tvalid_0's l2: 1.12271\tvalid_1's l2: 1.05864\n",
      "[218]\tvalid_0's l2: 1.11799\tvalid_1's l2: 1.05522\n",
      "[219]\tvalid_0's l2: 1.11548\tvalid_1's l2: 1.051\n",
      "[220]\tvalid_0's l2: 1.11288\tvalid_1's l2: 1.04743\n",
      "[221]\tvalid_0's l2: 1.10984\tvalid_1's l2: 1.04624\n",
      "[222]\tvalid_0's l2: 1.10697\tvalid_1's l2: 1.04484\n",
      "[223]\tvalid_0's l2: 1.10173\tvalid_1's l2: 1.04266\n",
      "[224]\tvalid_0's l2: 1.09628\tvalid_1's l2: 1.04217\n",
      "[225]\tvalid_0's l2: 1.09316\tvalid_1's l2: 1.03893\n",
      "[226]\tvalid_0's l2: 1.08707\tvalid_1's l2: 1.03751\n",
      "[227]\tvalid_0's l2: 1.08246\tvalid_1's l2: 1.03577\n",
      "[228]\tvalid_0's l2: 1.07975\tvalid_1's l2: 1.02983\n",
      "[229]\tvalid_0's l2: 1.07512\tvalid_1's l2: 1.02561\n",
      "[230]\tvalid_0's l2: 1.07243\tvalid_1's l2: 1.02017\n",
      "[231]\tvalid_0's l2: 1.0686\tvalid_1's l2: 1.01911\n",
      "[232]\tvalid_0's l2: 1.06551\tvalid_1's l2: 1.01832\n",
      "[233]\tvalid_0's l2: 1.06045\tvalid_1's l2: 1.01605\n",
      "[234]\tvalid_0's l2: 1.05627\tvalid_1's l2: 1.01493\n",
      "[235]\tvalid_0's l2: 1.05331\tvalid_1's l2: 1.0093\n",
      "[236]\tvalid_0's l2: 1.04957\tvalid_1's l2: 1.00871\n",
      "[237]\tvalid_0's l2: 1.04571\tvalid_1's l2: 1.0058\n",
      "[238]\tvalid_0's l2: 1.04031\tvalid_1's l2: 1.00231\n",
      "[239]\tvalid_0's l2: 1.03845\tvalid_1's l2: 0.999338\n",
      "[240]\tvalid_0's l2: 1.03434\tvalid_1's l2: 0.996665\n",
      "[241]\tvalid_0's l2: 1.02977\tvalid_1's l2: 0.996725\n",
      "[242]\tvalid_0's l2: 1.02677\tvalid_1's l2: 0.995751\n",
      "[243]\tvalid_0's l2: 1.02424\tvalid_1's l2: 0.992582\n",
      "[244]\tvalid_0's l2: 1.02158\tvalid_1's l2: 0.989633\n",
      "[245]\tvalid_0's l2: 1.01771\tvalid_1's l2: 0.98872\n",
      "[246]\tvalid_0's l2: 1.01532\tvalid_1's l2: 0.986299\n",
      "[247]\tvalid_0's l2: 1.01224\tvalid_1's l2: 0.984963\n",
      "[248]\tvalid_0's l2: 1.00975\tvalid_1's l2: 0.97954\n",
      "[249]\tvalid_0's l2: 1.00699\tvalid_1's l2: 0.976243\n",
      "[250]\tvalid_0's l2: 1.00474\tvalid_1's l2: 0.973409\n",
      "[251]\tvalid_0's l2: 1.00178\tvalid_1's l2: 0.971647\n",
      "[252]\tvalid_0's l2: 0.998962\tvalid_1's l2: 0.969911\n",
      "[253]\tvalid_0's l2: 0.995308\tvalid_1's l2: 0.967653\n",
      "[254]\tvalid_0's l2: 0.99359\tvalid_1's l2: 0.96448\n",
      "[255]\tvalid_0's l2: 0.989407\tvalid_1's l2: 0.95999\n",
      "[256]\tvalid_0's l2: 0.985628\tvalid_1's l2: 0.956382\n",
      "[257]\tvalid_0's l2: 0.982559\tvalid_1's l2: 0.95498\n",
      "[258]\tvalid_0's l2: 0.979341\tvalid_1's l2: 0.953962\n",
      "[259]\tvalid_0's l2: 0.976881\tvalid_1's l2: 0.952398\n",
      "[260]\tvalid_0's l2: 0.97446\tvalid_1's l2: 0.950057\n",
      "[261]\tvalid_0's l2: 0.970922\tvalid_1's l2: 0.949716\n",
      "[262]\tvalid_0's l2: 0.968173\tvalid_1's l2: 0.947497\n",
      "[263]\tvalid_0's l2: 0.965027\tvalid_1's l2: 0.943381\n",
      "[264]\tvalid_0's l2: 0.962997\tvalid_1's l2: 0.939628\n",
      "[265]\tvalid_0's l2: 0.960472\tvalid_1's l2: 0.9382\n",
      "[266]\tvalid_0's l2: 0.958742\tvalid_1's l2: 0.936892\n",
      "[267]\tvalid_0's l2: 0.953651\tvalid_1's l2: 0.934999\n",
      "[268]\tvalid_0's l2: 0.951975\tvalid_1's l2: 0.931322\n",
      "[269]\tvalid_0's l2: 0.94979\tvalid_1's l2: 0.929405\n",
      "[270]\tvalid_0's l2: 0.947147\tvalid_1's l2: 0.927695\n",
      "[271]\tvalid_0's l2: 0.945512\tvalid_1's l2: 0.924788\n",
      "[272]\tvalid_0's l2: 0.942993\tvalid_1's l2: 0.923283\n",
      "[273]\tvalid_0's l2: 0.939545\tvalid_1's l2: 0.920621\n",
      "[274]\tvalid_0's l2: 0.936257\tvalid_1's l2: 0.914683\n",
      "[275]\tvalid_0's l2: 0.933558\tvalid_1's l2: 0.91214\n",
      "[276]\tvalid_0's l2: 0.931229\tvalid_1's l2: 0.90841\n"
     ]
    },
    {
     "name": "stdout",
     "output_type": "stream",
     "text": [
      "[277]\tvalid_0's l2: 0.928774\tvalid_1's l2: 0.907169\n",
      "[278]\tvalid_0's l2: 0.927135\tvalid_1's l2: 0.905621\n",
      "[279]\tvalid_0's l2: 0.925095\tvalid_1's l2: 0.90113\n",
      "[280]\tvalid_0's l2: 0.922571\tvalid_1's l2: 0.899885\n",
      "[281]\tvalid_0's l2: 0.918914\tvalid_1's l2: 0.898319\n",
      "[282]\tvalid_0's l2: 0.915313\tvalid_1's l2: 0.895583\n",
      "[283]\tvalid_0's l2: 0.913443\tvalid_1's l2: 0.891912\n",
      "[284]\tvalid_0's l2: 0.910377\tvalid_1's l2: 0.891234\n",
      "[285]\tvalid_0's l2: 0.906567\tvalid_1's l2: 0.892166\n",
      "[286]\tvalid_0's l2: 0.904702\tvalid_1's l2: 0.890133\n",
      "[287]\tvalid_0's l2: 0.902642\tvalid_1's l2: 0.885014\n",
      "[288]\tvalid_0's l2: 0.900654\tvalid_1's l2: 0.883881\n",
      "[289]\tvalid_0's l2: 0.896644\tvalid_1's l2: 0.88298\n",
      "[290]\tvalid_0's l2: 0.894617\tvalid_1's l2: 0.879364\n",
      "[291]\tvalid_0's l2: 0.892897\tvalid_1's l2: 0.877149\n",
      "[292]\tvalid_0's l2: 0.89017\tvalid_1's l2: 0.876722\n",
      "[293]\tvalid_0's l2: 0.887815\tvalid_1's l2: 0.875702\n",
      "[294]\tvalid_0's l2: 0.88579\tvalid_1's l2: 0.872121\n",
      "[295]\tvalid_0's l2: 0.88305\tvalid_1's l2: 0.871124\n",
      "[296]\tvalid_0's l2: 0.880269\tvalid_1's l2: 0.869328\n",
      "[297]\tvalid_0's l2: 0.877378\tvalid_1's l2: 0.868916\n",
      "[298]\tvalid_0's l2: 0.874795\tvalid_1's l2: 0.867356\n",
      "[299]\tvalid_0's l2: 0.872523\tvalid_1's l2: 0.864285\n",
      "[300]\tvalid_0's l2: 0.870735\tvalid_1's l2: 0.860035\n"
     ]
    },
    {
     "data": {
      "text/plain": [
       "LGBMRegressor(learning_rate=0.3, n_estimators=300, random_state=1)"
      ]
     },
     "execution_count": 14,
     "metadata": {},
     "output_type": "execute_result"
    }
   ],
   "source": [
    "lgb_reg.fit(X_train, y_train, eval_set=[(X_test, y_test), (X_train, y_train)])"
   ]
  },
  {
   "cell_type": "markdown",
   "id": "20aecca4",
   "metadata": {},
   "source": [
    "### Task 5: fit and make predictions with the pipeline"
   ]
  },
  {
   "cell_type": "code",
   "execution_count": 15,
   "id": "b7c59c9e",
   "metadata": {},
   "outputs": [],
   "source": [
    "features = ['date', 'symbol']\n",
    "\n",
    "X = df[['symbol', 'date']]\n",
    "y = df['close']\n",
    "\n",
    "X_test = df_test[features]"
   ]
  },
  {
   "cell_type": "code",
   "execution_count": 16,
   "id": "67216f1b",
   "metadata": {},
   "outputs": [
    {
     "data": {
      "text/plain": [
       "Pipeline(steps=[('columntransformer',\n",
       "                 ColumnTransformer(transformers=[('onehotencoder',\n",
       "                                                  OneHotEncoder(handle_unknown='ignore'),\n",
       "                                                  ['symbol']),\n",
       "                                                 ('functiontransformer',\n",
       "                                                  FunctionTransformer(func=<function datetime_features at 0x000002B13B8E8F70>),\n",
       "                                                  ['date'])])),\n",
       "                ('lgbmregressor',\n",
       "                 LGBMRegressor(learning_rate=0.3, n_estimators=300,\n",
       "                               random_state=1))])"
      ]
     },
     "execution_count": 16,
     "metadata": {},
     "output_type": "execute_result"
    }
   ],
   "source": [
    "pipe.fit(X, y)"
   ]
  },
  {
   "cell_type": "code",
   "execution_count": 17,
   "id": "40996219",
   "metadata": {},
   "outputs": [
    {
     "data": {
      "text/plain": [
       "array([ 42.18320089,  42.18320089,  42.18320089,  42.18320089,\n",
       "        42.18320089,  42.18320089,  42.18320089,  42.18320089,\n",
       "        42.18320089,  42.18320089,  42.18320089,  42.18320089,\n",
       "        42.18320089,  42.18320089,  42.18320089,  42.18320089,\n",
       "        42.18320089,  42.18320089,  42.18320089,  42.18320089,\n",
       "        42.18320089,  64.54403548,  64.54403548,  64.54403548,\n",
       "        64.54403548,  64.54403548,  64.54403548,  64.54403548,\n",
       "        64.54403548,  64.54403548,  64.54403548,  64.54403548,\n",
       "        64.54403548,  64.54403548,  64.54403548,  64.54403548,\n",
       "        64.54403548,  64.54403548,  64.54403548,  64.54403548,\n",
       "        64.54403548,  64.54403548,  33.71165621,  33.71165621,\n",
       "        33.71165621,  33.71165621,  33.71165621,  33.71165621,\n",
       "        33.71165621,  33.71165621,  33.71165621,  33.71165621,\n",
       "        33.71165621,  33.71165621,  33.71165621,  33.71165621,\n",
       "        33.71165621,  33.71165621,  33.71165621,  33.71165621,\n",
       "        33.71165621,  33.71165621,  33.71165621,  97.49663583,\n",
       "        97.49663583,  97.49663583,  97.49663583,  97.49663583,\n",
       "        97.49663583,  97.49663583,  97.49663583,  97.49663583,\n",
       "        97.49663583,  97.49663583,  97.49663583,  97.49663583,\n",
       "        97.49663583,  97.49663583,  97.49663583,  97.49663583,\n",
       "        97.49663583,  97.49663583,  97.49663583,  97.49663583,\n",
       "       121.67828169, 121.67828169, 121.67828169, 121.67828169,\n",
       "       121.67828169, 121.67828169, 121.67828169, 121.67828169,\n",
       "       121.67828169, 121.67828169, 121.67828169, 121.67828169,\n",
       "       121.67828169, 121.67828169, 121.67828169, 121.67828169,\n",
       "       121.67828169, 121.67828169, 121.67828169, 121.67828169,\n",
       "       121.67828169,  27.65993039,  27.65993039,  27.65993039,\n",
       "        27.65993039,  27.65993039,  27.65993039,  27.65993039,\n",
       "        27.65993039,  27.65993039,  27.65993039,  27.65993039,\n",
       "        27.65993039,  27.65993039,  27.65993039,  27.65993039,\n",
       "        27.65993039,  27.65993039,  27.65993039,  27.65993039,\n",
       "        27.65993039,  27.65993039,  58.17803119,  58.17803119,\n",
       "        58.17803119,  58.17803119,  58.17803119,  58.17803119,\n",
       "        58.17803119,  58.17803119,  58.17803119,  58.17803119,\n",
       "        58.17803119,  58.17803119,  58.17803119,  58.17803119,\n",
       "        58.17803119,  58.17803119,  58.17803119,  58.17803119,\n",
       "        58.17803119,  58.17803119,  58.17803119,  47.485752  ,\n",
       "        47.485752  ,  47.485752  ,  47.485752  ,  47.485752  ,\n",
       "        47.485752  ,  47.485752  ,  47.485752  ,  47.485752  ,\n",
       "        47.485752  ,  47.485752  ,  47.485752  ,  47.485752  ,\n",
       "        47.485752  ,  47.485752  ,  47.485752  ,  47.485752  ,\n",
       "        47.485752  ,  47.485752  ,  47.485752  ,  47.485752  ,\n",
       "        30.14504041,  30.14504041,  30.14504041,  30.14504041,\n",
       "        30.14504041,  30.14504041,  30.14504041,  30.14504041,\n",
       "        30.14504041,  30.14504041,  30.14504041,  30.14504041,\n",
       "        30.14504041,  30.14504041,  30.14504041,  30.14504041,\n",
       "        30.14504041,  30.14504041,  30.14504041,  30.14504041,\n",
       "        30.14504041, 148.08068871, 148.08068871, 148.08068871,\n",
       "       148.08068871, 148.08068871, 148.08068871, 148.08068871,\n",
       "       148.08068871, 148.08068871, 148.08068871, 148.08068871,\n",
       "       148.08068871, 148.08068871, 148.08068871, 148.08068871,\n",
       "       148.08068871, 148.08068871, 148.08068871, 148.08068871,\n",
       "       148.08068871, 148.08068871, 131.30568266, 131.30568266,\n",
       "       131.30568266, 131.30568266, 131.30568266, 131.30568266,\n",
       "       131.30568266, 131.30568266, 131.30568266, 131.30568266,\n",
       "       131.30568266, 131.30568266, 131.30568266, 131.30568266,\n",
       "       131.30568266, 131.30568266, 131.30568266, 131.30568266,\n",
       "       131.30568266, 131.30568266, 131.30568266, 106.91556689,\n",
       "       106.91556689, 106.91556689, 106.91556689, 106.91556689,\n",
       "       106.91556689, 106.91556689, 106.91556689, 106.91556689,\n",
       "       106.91556689, 106.91556689, 106.91556689, 106.91556689,\n",
       "       106.91556689, 106.91556689, 106.91556689, 106.91556689,\n",
       "       106.91556689, 106.91556689, 106.91556689, 106.91556689,\n",
       "        95.48299454,  95.48299454,  95.48299454,  95.48299454,\n",
       "        95.48299454,  95.48299454,  95.48299454,  95.48299454,\n",
       "        95.48299454,  95.48299454,  95.48299454,  95.48299454,\n",
       "        95.48299454,  95.48299454,  95.48299454,  95.48299454,\n",
       "        95.48299454,  95.48299454,  95.48299454,  95.48299454,\n",
       "        95.48299454,  55.58987339,  55.58987339,  55.58987339,\n",
       "        55.58987339,  55.58987339,  55.58987339,  55.58987339,\n",
       "        55.58987339,  55.58987339,  55.58987339,  55.58987339,\n",
       "        55.58987339,  55.58987339,  55.58987339,  55.58987339,\n",
       "        55.58987339,  55.58987339,  55.58987339,  55.58987339,\n",
       "        55.58987339,  55.58987339, 100.81561368, 100.81561368,\n",
       "       100.81561368, 100.81561368, 100.81561368, 100.81561368,\n",
       "       100.81561368, 100.81561368, 100.81561368, 100.81561368,\n",
       "       100.81561368, 100.81561368, 100.81561368, 100.81561368,\n",
       "       100.81561368, 100.81561368, 100.81561368, 100.81561368,\n",
       "       100.81561368, 100.81561368, 100.81561368,  13.30882079,\n",
       "        13.30882079,  13.30882079,  13.30882079,  13.30882079,\n",
       "        13.30882079,  13.30882079,  13.30882079,  13.30882079,\n",
       "        13.30882079,  13.30882079,  13.30882079,  13.30882079,\n",
       "        13.30882079,  13.30882079,  13.30882079,  13.30882079,\n",
       "        13.30882079,  13.30882079,  13.30882079,  13.30882079,\n",
       "        74.97712084,  74.97712084,  74.97712084,  74.97712084,\n",
       "        74.97712084,  74.97712084,  74.97712084,  74.97712084,\n",
       "        74.97712084,  74.97712084,  74.97712084,  74.97712084,\n",
       "        74.97712084,  74.97712084,  74.97712084,  74.97712084,\n",
       "        74.97712084,  74.97712084,  74.97712084,  74.97712084,\n",
       "        74.97712084,  22.45273202,  22.45273202,  22.45273202,\n",
       "        22.45273202,  22.45273202,  22.45273202,  22.45273202,\n",
       "        22.45273202,  22.45273202,  22.45273202,  22.45273202,\n",
       "        22.45273202,  22.45273202,  22.45273202,  22.45273202,\n",
       "        22.45273202,  22.45273202,  22.45273202,  22.45273202,\n",
       "        22.45273202,  22.45273202,  42.6577024 ,  42.6577024 ,\n",
       "        42.6577024 ,  42.6577024 ,  42.6577024 ,  42.6577024 ,\n",
       "        42.6577024 ,  42.6577024 ,  42.6577024 ,  42.6577024 ,\n",
       "        42.6577024 ,  42.6577024 ,  42.6577024 ,  42.6577024 ,\n",
       "        42.6577024 ,  42.6577024 ,  42.6577024 ,  42.6577024 ,\n",
       "        42.6577024 ,  42.6577024 ,  42.6577024 ,  28.11024557,\n",
       "        28.11024557,  28.11024557,  28.11024557,  28.11024557,\n",
       "        28.11024557,  28.11024557,  28.11024557,  28.11024557,\n",
       "        28.11024557,  28.11024557,  28.11024557,  28.11024557,\n",
       "        28.11024557,  28.11024557,  28.11024557,  28.11024557,\n",
       "        28.11024557,  28.11024557,  28.11024557,  28.11024557,\n",
       "        52.78666509,  52.78666509,  52.78666509,  52.78666509,\n",
       "        52.78666509,  52.78666509,  52.78666509,  52.78666509,\n",
       "        52.78666509,  52.78666509,  52.78666509,  52.78666509,\n",
       "        52.78666509,  52.78666509,  52.78666509,  52.78666509,\n",
       "        52.78666509,  52.78666509,  52.78666509,  52.78666509,\n",
       "        52.78666509,  18.39129855,  18.39129855,  18.39129855,\n",
       "        18.39129855,  18.39129855,  18.39129855,  18.39129855,\n",
       "        18.39129855,  18.39129855,  18.39129855,  18.39129855,\n",
       "        18.39129855,  18.39129855,  18.39129855,  18.39129855,\n",
       "        18.39129855,  18.39129855,  18.39129855,  18.39129855,\n",
       "        18.39129855,  18.39129855,  43.63761898,  43.63761898,\n",
       "        43.63761898,  43.63761898,  43.63761898,  43.63761898,\n",
       "        43.63761898,  43.63761898,  43.63761898,  43.63761898,\n",
       "        43.63761898,  43.63761898,  43.63761898,  43.63761898,\n",
       "        43.63761898,  43.63761898,  43.63761898,  43.63761898,\n",
       "        43.63761898,  43.63761898,  43.63761898,  98.03494257,\n",
       "        98.03494257,  98.03494257,  98.03494257,  98.03494257,\n",
       "        98.03494257,  98.03494257,  98.03494257,  98.03494257,\n",
       "        98.03494257,  98.03494257,  98.03494257,  98.03494257,\n",
       "        98.03494257,  98.03494257,  98.03494257,  98.03494257,\n",
       "        98.03494257,  98.03494257,  98.03494257,  98.03494257,\n",
       "        82.7521902 ,  82.7521902 ,  82.7521902 ,  82.7521902 ,\n",
       "        82.7521902 ,  82.7521902 ,  82.7521902 ,  82.7521902 ,\n",
       "        82.7521902 ,  82.7521902 ,  82.7521902 ,  82.7521902 ,\n",
       "        82.7521902 ,  82.7521902 ,  82.7521902 ,  82.7521902 ,\n",
       "        82.7521902 ,  82.7521902 ,  82.7521902 ,  82.7521902 ,\n",
       "        82.7521902 ,  95.18287365,  95.18287365,  95.18287365,\n",
       "        95.18287365,  95.18287365,  95.18287365,  95.18287365,\n",
       "        95.18287365,  95.18287365,  95.18287365,  95.18287365,\n",
       "        95.18287365,  95.18287365,  95.18287365,  95.18287365,\n",
       "        95.18287365,  95.18287365,  95.18287365,  95.18287365,\n",
       "        95.18287365,  95.18287365, 132.44393471, 132.44393471,\n",
       "       132.44393471, 132.44393471, 132.44393471, 132.44393471,\n",
       "       132.44393471, 132.44393471, 132.44393471, 132.44393471,\n",
       "       132.44393471, 132.44393471, 132.44393471, 132.44393471,\n",
       "       132.44393471, 132.44393471, 132.44393471, 132.44393471,\n",
       "       132.44393471, 132.44393471, 132.44393471,  91.34939908,\n",
       "        91.34939908,  91.34939908,  91.34939908,  91.34939908,\n",
       "        91.34939908,  91.34939908,  91.34939908,  91.34939908,\n",
       "        91.34939908,  91.34939908,  91.34939908,  91.34939908,\n",
       "        91.34939908,  91.34939908,  91.34939908,  91.34939908,\n",
       "        91.34939908,  91.34939908,  91.34939908,  91.34939908,\n",
       "        39.09061996,  39.09061996,  39.09061996,  39.09061996,\n",
       "        39.09061996,  39.09061996,  39.09061996,  39.09061996,\n",
       "        39.09061996,  39.09061996,  39.09061996,  39.09061996,\n",
       "        39.09061996,  39.09061996,  39.09061996,  39.09061996,\n",
       "        39.09061996,  39.09061996,  39.09061996,  39.09061996,\n",
       "        39.09061996,  31.34153594,  31.34153594,  31.34153594,\n",
       "        31.34153594,  31.34153594,  31.34153594,  31.34153594,\n",
       "        31.34153594,  31.34153594,  31.34153594,  31.34153594,\n",
       "        31.34153594,  31.34153594,  31.34153594,  31.34153594,\n",
       "        31.34153594,  31.34153594,  31.34153594,  31.34153594,\n",
       "        31.34153594,  31.34153594])"
      ]
     },
     "execution_count": 17,
     "metadata": {},
     "output_type": "execute_result"
    }
   ],
   "source": [
    "y_pred = pipe.predict(X_test)\n",
    "y_pred"
   ]
  },
  {
   "cell_type": "markdown",
   "id": "fbd4155e",
   "metadata": {},
   "source": [
    "## Task 6: Make a submission"
   ]
  },
  {
   "cell_type": "code",
   "execution_count": 18,
   "id": "aa17c8be",
   "metadata": {},
   "outputs": [
    {
     "data": {
      "text/html": [
       "<div>\n",
       "<style scoped>\n",
       "    .dataframe tbody tr th:only-of-type {\n",
       "        vertical-align: middle;\n",
       "    }\n",
       "\n",
       "    .dataframe tbody tr th {\n",
       "        vertical-align: top;\n",
       "    }\n",
       "\n",
       "    .dataframe thead th {\n",
       "        text-align: right;\n",
       "    }\n",
       "</style>\n",
       "<table border=\"1\" class=\"dataframe\">\n",
       "  <thead>\n",
       "    <tr style=\"text-align: right;\">\n",
       "      <th></th>\n",
       "      <th>Id</th>\n",
       "      <th>Predicted</th>\n",
       "    </tr>\n",
       "  </thead>\n",
       "  <tbody>\n",
       "    <tr>\n",
       "      <th>0</th>\n",
       "      <td>2021-11-01:BID</td>\n",
       "      <td>42.183201</td>\n",
       "    </tr>\n",
       "    <tr>\n",
       "      <th>1</th>\n",
       "      <td>2021-11-02:BID</td>\n",
       "      <td>42.183201</td>\n",
       "    </tr>\n",
       "    <tr>\n",
       "      <th>2</th>\n",
       "      <td>2021-11-03:BID</td>\n",
       "      <td>42.183201</td>\n",
       "    </tr>\n",
       "    <tr>\n",
       "      <th>3</th>\n",
       "      <td>2021-11-04:BID</td>\n",
       "      <td>42.183201</td>\n",
       "    </tr>\n",
       "    <tr>\n",
       "      <th>4</th>\n",
       "      <td>2021-11-05:BID</td>\n",
       "      <td>42.183201</td>\n",
       "    </tr>\n",
       "    <tr>\n",
       "      <th>...</th>\n",
       "      <td>...</td>\n",
       "      <td>...</td>\n",
       "    </tr>\n",
       "    <tr>\n",
       "      <th>625</th>\n",
       "      <td>2021-11-23:VRE</td>\n",
       "      <td>31.341536</td>\n",
       "    </tr>\n",
       "    <tr>\n",
       "      <th>626</th>\n",
       "      <td>2021-11-24:VRE</td>\n",
       "      <td>31.341536</td>\n",
       "    </tr>\n",
       "    <tr>\n",
       "      <th>627</th>\n",
       "      <td>2021-11-25:VRE</td>\n",
       "      <td>31.341536</td>\n",
       "    </tr>\n",
       "    <tr>\n",
       "      <th>628</th>\n",
       "      <td>2021-11-26:VRE</td>\n",
       "      <td>31.341536</td>\n",
       "    </tr>\n",
       "    <tr>\n",
       "      <th>629</th>\n",
       "      <td>2021-11-29:VRE</td>\n",
       "      <td>31.341536</td>\n",
       "    </tr>\n",
       "  </tbody>\n",
       "</table>\n",
       "<p>630 rows × 2 columns</p>\n",
       "</div>"
      ],
      "text/plain": [
       "                 Id  Predicted\n",
       "0    2021-11-01:BID  42.183201\n",
       "1    2021-11-02:BID  42.183201\n",
       "2    2021-11-03:BID  42.183201\n",
       "3    2021-11-04:BID  42.183201\n",
       "4    2021-11-05:BID  42.183201\n",
       "..              ...        ...\n",
       "625  2021-11-23:VRE  31.341536\n",
       "626  2021-11-24:VRE  31.341536\n",
       "627  2021-11-25:VRE  31.341536\n",
       "628  2021-11-26:VRE  31.341536\n",
       "629  2021-11-29:VRE  31.341536\n",
       "\n",
       "[630 rows x 2 columns]"
      ]
     },
     "execution_count": 18,
     "metadata": {},
     "output_type": "execute_result"
    }
   ],
   "source": [
    "# substitute fake values to predictions\n",
    "sub['Predicted'] = y_pred\n",
    "sub"
   ]
  },
  {
   "cell_type": "code",
   "execution_count": 19,
   "id": "5c18cdc0",
   "metadata": {},
   "outputs": [],
   "source": [
    "# make a submission (Public: 4.09518, Private: 4.46004)\n",
    "sub.to_csv('submission.csv', index=False)"
   ]
  }
 ],
 "metadata": {
  "kernelspec": {
   "display_name": "Python 3 (ipykernel)",
   "language": "python",
   "name": "python3"
  },
  "language_info": {
   "codemirror_mode": {
    "name": "ipython",
    "version": 3
   },
   "file_extension": ".py",
   "mimetype": "text/x-python",
   "name": "python",
   "nbconvert_exporter": "python",
   "pygments_lexer": "ipython3",
   "version": "3.8.8"
  },
  "widgets": {
   "application/vnd.jupyter.widget-state+json": {
    "state": {
     "01d4967d95df4706a54bb826ead11b3c": {
      "model_module": "@jupyter-widgets/controls",
      "model_module_version": "1.5.0",
      "model_name": "FloatProgressModel",
      "state": {
       "bar_style": "success",
       "layout": "IPY_MODEL_6aad8cb91dd547c99178557d16467a2e",
       "max": 5,
       "style": "IPY_MODEL_69b9772a246547d8b365361a32791fd2",
       "value": 5
      }
     },
     "041115cc0ae9472aa9626c62ba55b9f9": {
      "model_module": "@jupyter-widgets/controls",
      "model_module_version": "1.5.0",
      "model_name": "HTMLModel",
      "state": {
       "layout": "IPY_MODEL_2e7fa43e793046b8a6177a29da9015fa",
       "style": "IPY_MODEL_aac8558e0982492ab356e9bd90372869",
       "value": " 1/5 [03:24&lt;02:25, 36.46s/it]"
      }
     },
     "0da982fd26f6477898811f2c69baf5d6": {
      "model_module": "@jupyter-widgets/controls",
      "model_module_version": "1.5.0",
      "model_name": "DescriptionStyleModel",
      "state": {
       "description_width": ""
      }
     },
     "0e7871e56ae34d6584d6112fe3f2b600": {
      "model_module": "@jupyter-widgets/base",
      "model_module_version": "1.2.0",
      "model_name": "LayoutModel",
      "state": {}
     },
     "13cf9619166841caad8aa50b8ed5411f": {
      "model_module": "@jupyter-widgets/base",
      "model_module_version": "1.2.0",
      "model_name": "LayoutModel",
      "state": {}
     },
     "15333d1b89fb4136b4823f3114e0d1d3": {
      "model_module": "@jupyter-widgets/controls",
      "model_module_version": "1.5.0",
      "model_name": "DescriptionStyleModel",
      "state": {
       "description_width": ""
      }
     },
     "1764a03522f747bebc46a4457913191f": {
      "model_module": "@jupyter-widgets/controls",
      "model_module_version": "1.5.0",
      "model_name": "DescriptionStyleModel",
      "state": {
       "description_width": ""
      }
     },
     "1b24c100c5bf402cbdcca73727863618": {
      "model_module": "@jupyter-widgets/controls",
      "model_module_version": "1.5.0",
      "model_name": "HTMLModel",
      "state": {
       "layout": "IPY_MODEL_63a0781900c543ad9f5d296802a38f76",
       "style": "IPY_MODEL_6e422cc859aa4897b6170c43fc5b215c",
       "value": " 20%"
      }
     },
     "1e88bf74e57d4622b837c350155b88a9": {
      "model_module": "@jupyter-widgets/base",
      "model_module_version": "1.2.0",
      "model_name": "LayoutModel",
      "state": {}
     },
     "20abd70d96014c6793f3bc0febe8897d": {
      "model_module": "@jupyter-widgets/controls",
      "model_module_version": "1.5.0",
      "model_name": "DescriptionStyleModel",
      "state": {
       "description_width": ""
      }
     },
     "22d51ce475594aabb57af90e8572037b": {
      "model_module": "@jupyter-widgets/base",
      "model_module_version": "1.2.0",
      "model_name": "LayoutModel",
      "state": {}
     },
     "246dbc605f6f40568eccf7518b065f3a": {
      "model_module": "@jupyter-widgets/controls",
      "model_module_version": "1.5.0",
      "model_name": "HTMLModel",
      "state": {
       "layout": "IPY_MODEL_51b5abc3a79645d2aa999df7c0194e4b",
       "style": "IPY_MODEL_20abd70d96014c6793f3bc0febe8897d",
       "value": "  0%"
      }
     },
     "24ca1975ef1c4a1399a8179d0bd684f2": {
      "model_module": "@jupyter-widgets/base",
      "model_module_version": "1.2.0",
      "model_name": "LayoutModel",
      "state": {}
     },
     "257041effa834f609abfc63b67a0ea06": {
      "model_module": "@jupyter-widgets/controls",
      "model_module_version": "1.5.0",
      "model_name": "ProgressStyleModel",
      "state": {
       "description_width": ""
      }
     },
     "2e7fa43e793046b8a6177a29da9015fa": {
      "model_module": "@jupyter-widgets/base",
      "model_module_version": "1.2.0",
      "model_name": "LayoutModel",
      "state": {}
     },
     "30a8bfd508e248f8b6c6cb1e0929c3dc": {
      "model_module": "@jupyter-widgets/controls",
      "model_module_version": "1.5.0",
      "model_name": "FloatProgressModel",
      "state": {
       "bar_style": "danger",
       "layout": "IPY_MODEL_99fde2ed8a6d4481b46fee7bb4433f85",
       "max": 5,
       "style": "IPY_MODEL_4eaafb945f84440cbdd8a1f98aa68d2b",
       "value": 1
      }
     },
     "363ae58a97a44878baeab4817f95f8a4": {
      "model_module": "@jupyter-widgets/base",
      "model_module_version": "1.2.0",
      "model_name": "LayoutModel",
      "state": {}
     },
     "39ca9198457e49348c3fdc0c2806fa7d": {
      "model_module": "@jupyter-widgets/controls",
      "model_module_version": "1.5.0",
      "model_name": "HBoxModel",
      "state": {
       "children": [
        "IPY_MODEL_7d945076ee95426cbc23a86bf2d6de06",
        "IPY_MODEL_6fe7858c771d4b8784495f460a60417e",
        "IPY_MODEL_c5a897dffa6b4b00a6907cc7f9c7962a"
       ],
       "layout": "IPY_MODEL_5b32feb313bd4d388b6949460e217d4a"
      }
     },
     "3accfe7359e54454adad989f7b6b3bd6": {
      "model_module": "@jupyter-widgets/controls",
      "model_module_version": "1.5.0",
      "model_name": "HTMLModel",
      "state": {
       "layout": "IPY_MODEL_22d51ce475594aabb57af90e8572037b",
       "style": "IPY_MODEL_1764a03522f747bebc46a4457913191f",
       "value": " 5/5 [03:57&lt;00:00, 50.44s/it]"
      }
     },
     "3ae129e1d9af45229546529905558924": {
      "model_module": "@jupyter-widgets/controls",
      "model_module_version": "1.5.0",
      "model_name": "HTMLModel",
      "state": {
       "layout": "IPY_MODEL_9176912556984c4db1c9eba06a9b65c9",
       "style": "IPY_MODEL_9ad33c1a528543a09ee3d816c8e7e2f8",
       "value": " 5/5 [04:09&lt;00:00, 52.16s/it]"
      }
     },
     "3bff68994a644f30a450ef555c2ab03a": {
      "model_module": "@jupyter-widgets/controls",
      "model_module_version": "1.5.0",
      "model_name": "HBoxModel",
      "state": {
       "children": [
        "IPY_MODEL_be0e2bc1fbaa4df59f9188da491ac5d8",
        "IPY_MODEL_01d4967d95df4706a54bb826ead11b3c",
        "IPY_MODEL_3ae129e1d9af45229546529905558924"
       ],
       "layout": "IPY_MODEL_798be5cd31f24ab69230e27384e5e7fa"
      }
     },
     "3d5039e1de594ae3ae40b11e60facab4": {
      "model_module": "@jupyter-widgets/controls",
      "model_module_version": "1.5.0",
      "model_name": "DescriptionStyleModel",
      "state": {
       "description_width": ""
      }
     },
     "3e02eef9f31b41deac4b92e797f9177d": {
      "model_module": "@jupyter-widgets/base",
      "model_module_version": "1.2.0",
      "model_name": "LayoutModel",
      "state": {}
     },
     "4d7dfe86804b435e9ce5827050412b75": {
      "model_module": "@jupyter-widgets/controls",
      "model_module_version": "1.5.0",
      "model_name": "FloatProgressModel",
      "state": {
       "bar_style": "danger",
       "layout": "IPY_MODEL_c21769e7a38c4ffbb479f6cc7cbfbf64",
       "max": 5,
       "style": "IPY_MODEL_b9b1bf3b72fb4d38b8823b2fb9c6d5e9"
      }
     },
     "4eaafb945f84440cbdd8a1f98aa68d2b": {
      "model_module": "@jupyter-widgets/controls",
      "model_module_version": "1.5.0",
      "model_name": "ProgressStyleModel",
      "state": {
       "description_width": ""
      }
     },
     "51b5abc3a79645d2aa999df7c0194e4b": {
      "model_module": "@jupyter-widgets/base",
      "model_module_version": "1.2.0",
      "model_name": "LayoutModel",
      "state": {}
     },
     "52647c9ac26f4850a4c66947661c2ad2": {
      "model_module": "@jupyter-widgets/base",
      "model_module_version": "1.2.0",
      "model_name": "LayoutModel",
      "state": {}
     },
     "58744f8e77144d65a855e1d27d4f4a55": {
      "model_module": "@jupyter-widgets/base",
      "model_module_version": "1.2.0",
      "model_name": "LayoutModel",
      "state": {}
     },
     "59ae39926c4e43f6ab7f7e0a8b4f3741": {
      "model_module": "@jupyter-widgets/controls",
      "model_module_version": "1.5.0",
      "model_name": "HTMLModel",
      "state": {
       "layout": "IPY_MODEL_1e88bf74e57d4622b837c350155b88a9",
       "style": "IPY_MODEL_b37633b40b0040f99913d403b582829b",
       "value": "  0%"
      }
     },
     "5a071f0e4505491c805dfa4713775621": {
      "model_module": "@jupyter-widgets/controls",
      "model_module_version": "1.5.0",
      "model_name": "HTMLModel",
      "state": {
       "layout": "IPY_MODEL_3e02eef9f31b41deac4b92e797f9177d",
       "style": "IPY_MODEL_b03fed8250704c12a40dbc23ee51a11b",
       "value": "100%"
      }
     },
     "5a742fb83d1644e8a47e31d779075a52": {
      "model_module": "@jupyter-widgets/base",
      "model_module_version": "1.2.0",
      "model_name": "LayoutModel",
      "state": {}
     },
     "5b32feb313bd4d388b6949460e217d4a": {
      "model_module": "@jupyter-widgets/base",
      "model_module_version": "1.2.0",
      "model_name": "LayoutModel",
      "state": {}
     },
     "63a0781900c543ad9f5d296802a38f76": {
      "model_module": "@jupyter-widgets/base",
      "model_module_version": "1.2.0",
      "model_name": "LayoutModel",
      "state": {}
     },
     "691066e6ed0d4e09b105f2b7db01c228": {
      "model_module": "@jupyter-widgets/base",
      "model_module_version": "1.2.0",
      "model_name": "LayoutModel",
      "state": {}
     },
     "69b9772a246547d8b365361a32791fd2": {
      "model_module": "@jupyter-widgets/controls",
      "model_module_version": "1.5.0",
      "model_name": "ProgressStyleModel",
      "state": {
       "description_width": ""
      }
     },
     "6aad8cb91dd547c99178557d16467a2e": {
      "model_module": "@jupyter-widgets/base",
      "model_module_version": "1.2.0",
      "model_name": "LayoutModel",
      "state": {}
     },
     "6d8649259e0e41fa9741c0c83e2f7214": {
      "model_module": "@jupyter-widgets/base",
      "model_module_version": "1.2.0",
      "model_name": "LayoutModel",
      "state": {}
     },
     "6e422cc859aa4897b6170c43fc5b215c": {
      "model_module": "@jupyter-widgets/controls",
      "model_module_version": "1.5.0",
      "model_name": "DescriptionStyleModel",
      "state": {
       "description_width": ""
      }
     },
     "6fe7858c771d4b8784495f460a60417e": {
      "model_module": "@jupyter-widgets/controls",
      "model_module_version": "1.5.0",
      "model_name": "FloatProgressModel",
      "state": {
       "bar_style": "danger",
       "layout": "IPY_MODEL_ed581f7086614dee9f4611aafacc1937",
       "max": 5,
       "style": "IPY_MODEL_7352d9f6b7724fdb89cfac252ef7dca7",
       "value": 2
      }
     },
     "7352d9f6b7724fdb89cfac252ef7dca7": {
      "model_module": "@jupyter-widgets/controls",
      "model_module_version": "1.5.0",
      "model_name": "ProgressStyleModel",
      "state": {
       "description_width": ""
      }
     },
     "7811c1d319cb4ed68ccfe757e2393d3e": {
      "model_module": "@jupyter-widgets/controls",
      "model_module_version": "1.5.0",
      "model_name": "DescriptionStyleModel",
      "state": {
       "description_width": ""
      }
     },
     "798be5cd31f24ab69230e27384e5e7fa": {
      "model_module": "@jupyter-widgets/base",
      "model_module_version": "1.2.0",
      "model_name": "LayoutModel",
      "state": {}
     },
     "7d945076ee95426cbc23a86bf2d6de06": {
      "model_module": "@jupyter-widgets/controls",
      "model_module_version": "1.5.0",
      "model_name": "HTMLModel",
      "state": {
       "layout": "IPY_MODEL_58744f8e77144d65a855e1d27d4f4a55",
       "style": "IPY_MODEL_15333d1b89fb4136b4823f3114e0d1d3",
       "value": " 40%"
      }
     },
     "80706e987f084f48aec1f41cd2eb5393": {
      "model_module": "@jupyter-widgets/base",
      "model_module_version": "1.2.0",
      "model_name": "LayoutModel",
      "state": {}
     },
     "82ead5fcb1144285ab13289f52aef4ae": {
      "model_module": "@jupyter-widgets/base",
      "model_module_version": "1.2.0",
      "model_name": "LayoutModel",
      "state": {}
     },
     "864e06e0d2a24739b4bbd7e7b584f475": {
      "model_module": "@jupyter-widgets/controls",
      "model_module_version": "1.5.0",
      "model_name": "ProgressStyleModel",
      "state": {
       "description_width": ""
      }
     },
     "86555ace1c9844dbac672b5770969d1b": {
      "model_module": "@jupyter-widgets/controls",
      "model_module_version": "1.5.0",
      "model_name": "ProgressStyleModel",
      "state": {
       "description_width": ""
      }
     },
     "8ab735f2437f40da92290469bb45d02e": {
      "model_module": "@jupyter-widgets/controls",
      "model_module_version": "1.5.0",
      "model_name": "FloatProgressModel",
      "state": {
       "bar_style": "success",
       "layout": "IPY_MODEL_691066e6ed0d4e09b105f2b7db01c228",
       "max": 5,
       "style": "IPY_MODEL_86555ace1c9844dbac672b5770969d1b",
       "value": 5
      }
     },
     "8f4f774289664b48ba06f7fc54e5836c": {
      "model_module": "@jupyter-widgets/controls",
      "model_module_version": "1.5.0",
      "model_name": "FloatProgressModel",
      "state": {
       "bar_style": "danger",
       "layout": "IPY_MODEL_52647c9ac26f4850a4c66947661c2ad2",
       "max": 5,
       "style": "IPY_MODEL_257041effa834f609abfc63b67a0ea06"
      }
     },
     "9176912556984c4db1c9eba06a9b65c9": {
      "model_module": "@jupyter-widgets/base",
      "model_module_version": "1.2.0",
      "model_name": "LayoutModel",
      "state": {}
     },
     "91e9d9581abc48b3b59f345c9850da98": {
      "model_module": "@jupyter-widgets/controls",
      "model_module_version": "1.5.0",
      "model_name": "FloatProgressModel",
      "state": {
       "bar_style": "success",
       "layout": "IPY_MODEL_9e8bf689c5834feab0cd8010ac535dea",
       "max": 5,
       "style": "IPY_MODEL_864e06e0d2a24739b4bbd7e7b584f475",
       "value": 5
      }
     },
     "943608710f8e4a6283eade33aaf3e207": {
      "model_module": "@jupyter-widgets/base",
      "model_module_version": "1.2.0",
      "model_name": "LayoutModel",
      "state": {}
     },
     "94609a9ae980411d9df46eec718bc534": {
      "model_module": "@jupyter-widgets/base",
      "model_module_version": "1.2.0",
      "model_name": "LayoutModel",
      "state": {}
     },
     "97e23dd41e5a4690b1d3bab27bbd4b32": {
      "model_module": "@jupyter-widgets/controls",
      "model_module_version": "1.5.0",
      "model_name": "HTMLModel",
      "state": {
       "layout": "IPY_MODEL_363ae58a97a44878baeab4817f95f8a4",
       "style": "IPY_MODEL_0da982fd26f6477898811f2c69baf5d6",
       "value": "100%"
      }
     },
     "99fde2ed8a6d4481b46fee7bb4433f85": {
      "model_module": "@jupyter-widgets/base",
      "model_module_version": "1.2.0",
      "model_name": "LayoutModel",
      "state": {}
     },
     "9ad33c1a528543a09ee3d816c8e7e2f8": {
      "model_module": "@jupyter-widgets/controls",
      "model_module_version": "1.5.0",
      "model_name": "DescriptionStyleModel",
      "state": {
       "description_width": ""
      }
     },
     "9e8bf689c5834feab0cd8010ac535dea": {
      "model_module": "@jupyter-widgets/base",
      "model_module_version": "1.2.0",
      "model_name": "LayoutModel",
      "state": {}
     },
     "a0a62365901b435ebeb419cc223c8e78": {
      "model_module": "@jupyter-widgets/controls",
      "model_module_version": "1.5.0",
      "model_name": "HBoxModel",
      "state": {
       "children": [
        "IPY_MODEL_246dbc605f6f40568eccf7518b065f3a",
        "IPY_MODEL_4d7dfe86804b435e9ce5827050412b75",
        "IPY_MODEL_cc478fbceff54930bcf06dcf51f13072"
       ],
       "layout": "IPY_MODEL_94609a9ae980411d9df46eec718bc534"
      }
     },
     "a2903230c0124ead910b637fab3b6b01": {
      "model_module": "@jupyter-widgets/controls",
      "model_module_version": "1.5.0",
      "model_name": "HBoxModel",
      "state": {
       "children": [
        "IPY_MODEL_5a071f0e4505491c805dfa4713775621",
        "IPY_MODEL_91e9d9581abc48b3b59f345c9850da98",
        "IPY_MODEL_3accfe7359e54454adad989f7b6b3bd6"
       ],
       "layout": "IPY_MODEL_24ca1975ef1c4a1399a8179d0bd684f2"
      }
     },
     "a5536d79bdff4fbf9d8767a618e196fa": {
      "model_module": "@jupyter-widgets/controls",
      "model_module_version": "1.5.0",
      "model_name": "DescriptionStyleModel",
      "state": {
       "description_width": ""
      }
     },
     "aac8558e0982492ab356e9bd90372869": {
      "model_module": "@jupyter-widgets/controls",
      "model_module_version": "1.5.0",
      "model_name": "DescriptionStyleModel",
      "state": {
       "description_width": ""
      }
     },
     "b03fed8250704c12a40dbc23ee51a11b": {
      "model_module": "@jupyter-widgets/controls",
      "model_module_version": "1.5.0",
      "model_name": "DescriptionStyleModel",
      "state": {
       "description_width": ""
      }
     },
     "b37633b40b0040f99913d403b582829b": {
      "model_module": "@jupyter-widgets/controls",
      "model_module_version": "1.5.0",
      "model_name": "DescriptionStyleModel",
      "state": {
       "description_width": ""
      }
     },
     "b470e23c4659450e86cc4bad12bab7a6": {
      "model_module": "@jupyter-widgets/controls",
      "model_module_version": "1.5.0",
      "model_name": "DescriptionStyleModel",
      "state": {
       "description_width": ""
      }
     },
     "b9b1bf3b72fb4d38b8823b2fb9c6d5e9": {
      "model_module": "@jupyter-widgets/controls",
      "model_module_version": "1.5.0",
      "model_name": "ProgressStyleModel",
      "state": {
       "description_width": ""
      }
     },
     "be0e2bc1fbaa4df59f9188da491ac5d8": {
      "model_module": "@jupyter-widgets/controls",
      "model_module_version": "1.5.0",
      "model_name": "HTMLModel",
      "state": {
       "layout": "IPY_MODEL_6d8649259e0e41fa9741c0c83e2f7214",
       "style": "IPY_MODEL_7811c1d319cb4ed68ccfe757e2393d3e",
       "value": "100%"
      }
     },
     "bfb1c14c9a0143fb9988ef3f6b421da8": {
      "model_module": "@jupyter-widgets/controls",
      "model_module_version": "1.5.0",
      "model_name": "HBoxModel",
      "state": {
       "children": [
        "IPY_MODEL_59ae39926c4e43f6ab7f7e0a8b4f3741",
        "IPY_MODEL_8f4f774289664b48ba06f7fc54e5836c",
        "IPY_MODEL_cc75d7153bff452ea5b8348f976d320a"
       ],
       "layout": "IPY_MODEL_80706e987f084f48aec1f41cd2eb5393"
      }
     },
     "c0317f0a44be47f3af2e2a7182915300": {
      "model_module": "@jupyter-widgets/base",
      "model_module_version": "1.2.0",
      "model_name": "LayoutModel",
      "state": {}
     },
     "c21769e7a38c4ffbb479f6cc7cbfbf64": {
      "model_module": "@jupyter-widgets/base",
      "model_module_version": "1.2.0",
      "model_name": "LayoutModel",
      "state": {}
     },
     "c5a897dffa6b4b00a6907cc7f9c7962a": {
      "model_module": "@jupyter-widgets/controls",
      "model_module_version": "1.5.0",
      "model_name": "HTMLModel",
      "state": {
       "layout": "IPY_MODEL_13cf9619166841caad8aa50b8ed5411f",
       "style": "IPY_MODEL_b470e23c4659450e86cc4bad12bab7a6",
       "value": " 2/5 [02:22&lt;02:58, 59.62s/it]"
      }
     },
     "c8b918ef53e94b8fbdb434f91b0c1c57": {
      "model_module": "@jupyter-widgets/controls",
      "model_module_version": "1.5.0",
      "model_name": "DescriptionStyleModel",
      "state": {
       "description_width": ""
      }
     },
     "cba15093f5d54ac69ef9ec7ba404080d": {
      "model_module": "@jupyter-widgets/controls",
      "model_module_version": "1.5.0",
      "model_name": "HBoxModel",
      "state": {
       "children": [
        "IPY_MODEL_97e23dd41e5a4690b1d3bab27bbd4b32",
        "IPY_MODEL_8ab735f2437f40da92290469bb45d02e",
        "IPY_MODEL_eebf6d2035674f37ad8a4d65b0c76e6c"
       ],
       "layout": "IPY_MODEL_0e7871e56ae34d6584d6112fe3f2b600"
      }
     },
     "cc478fbceff54930bcf06dcf51f13072": {
      "model_module": "@jupyter-widgets/controls",
      "model_module_version": "1.5.0",
      "model_name": "HTMLModel",
      "state": {
       "layout": "IPY_MODEL_5a742fb83d1644e8a47e31d779075a52",
       "style": "IPY_MODEL_a5536d79bdff4fbf9d8767a618e196fa",
       "value": " 0/5 [00:00&lt;?, ?it/s]"
      }
     },
     "cc75d7153bff452ea5b8348f976d320a": {
      "model_module": "@jupyter-widgets/controls",
      "model_module_version": "1.5.0",
      "model_name": "HTMLModel",
      "state": {
       "layout": "IPY_MODEL_943608710f8e4a6283eade33aaf3e207",
       "style": "IPY_MODEL_c8b918ef53e94b8fbdb434f91b0c1c57",
       "value": " 0/5 [00:33&lt;?, ?it/s]"
      }
     },
     "ecfddbff794b439aacd4ba9c9dde6e23": {
      "model_module": "@jupyter-widgets/controls",
      "model_module_version": "1.5.0",
      "model_name": "HBoxModel",
      "state": {
       "children": [
        "IPY_MODEL_1b24c100c5bf402cbdcca73727863618",
        "IPY_MODEL_30a8bfd508e248f8b6c6cb1e0929c3dc",
        "IPY_MODEL_041115cc0ae9472aa9626c62ba55b9f9"
       ],
       "layout": "IPY_MODEL_82ead5fcb1144285ab13289f52aef4ae"
      }
     },
     "ed581f7086614dee9f4611aafacc1937": {
      "model_module": "@jupyter-widgets/base",
      "model_module_version": "1.2.0",
      "model_name": "LayoutModel",
      "state": {}
     },
     "eebf6d2035674f37ad8a4d65b0c76e6c": {
      "model_module": "@jupyter-widgets/controls",
      "model_module_version": "1.5.0",
      "model_name": "HTMLModel",
      "state": {
       "layout": "IPY_MODEL_c0317f0a44be47f3af2e2a7182915300",
       "style": "IPY_MODEL_3d5039e1de594ae3ae40b11e60facab4",
       "value": " 5/5 [05:35&lt;00:00, 70.39s/it]"
      }
     }
    },
    "version_major": 2,
    "version_minor": 0
   }
  }
 },
 "nbformat": 4,
 "nbformat_minor": 5
}
