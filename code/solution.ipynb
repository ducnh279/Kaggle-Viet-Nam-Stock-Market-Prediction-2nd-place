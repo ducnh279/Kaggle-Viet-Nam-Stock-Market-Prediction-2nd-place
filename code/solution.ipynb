{
 "cells": [
  {
   "cell_type": "markdown",
   "id": "c4412e3b",
   "metadata": {},
   "source": [
    "# Viet Nam Stock Market Prediction\n",
    "### Kaggle 02 - TowardDataScience\n",
    "[Link to the competition](https://www.kaggle.com/c/stock-market-prediction/overview)"
   ]
  },
  {
   "cell_type": "markdown",
   "id": "060ec98b",
   "metadata": {},
   "source": [
    "--------------------------------"
   ]
  },
  {
   "cell_type": "markdown",
   "id": "f526168f",
   "metadata": {},
   "source": [
    "### Task 1: Importing libraries needed to use"
   ]
  },
  {
   "cell_type": "markdown",
   "id": "f2a74bbe",
   "metadata": {},
   "source": [
    "**Requirements**"
   ]
  },
  {
   "cell_type": "code",
   "execution_count": 1,
   "id": "93a2e023",
   "metadata": {},
   "outputs": [
    {
     "name": "stdout",
     "output_type": "stream",
     "text": [
      "Author: Nguyen Huu Duc\n",
      "\n",
      "numpy     : 1.21.4\n",
      "matplotlib: 3.5.1\n",
      "pandas    : 1.3.5\n",
      "sklearn   : 1.0.2\n",
      "dirty_cat : 0.2.0\n",
      "tqdm      : 4.62.3\n",
      "xgboost   : 1.5.1\n",
      "\n"
     ]
    }
   ],
   "source": [
    "%load_ext watermark\n",
    "%watermark -a \"Nguyen Huu Duc\" -p numpy,matplotlib,pandas,sklearn,dirty_cat,tqdm,xgboost"
   ]
  },
  {
   "cell_type": "code",
   "execution_count": 2,
   "id": "2c893b86",
   "metadata": {},
   "outputs": [],
   "source": [
    "import pandas as pd\n",
    "import numpy as np\n",
    "import matplotlib.pyplot as plt\n",
    "from tqdm.notebook import tqdm\n",
    "from sklearn.preprocessing import OneHotEncoder, StandardScaler, FunctionTransformer\n",
    "from xgboost import XGBRegressor\n",
    "from sklearn.linear_model import LinearRegression, TweedieRegressor\n",
    "from dirty_cat import SimilarityEncoder, TargetEncoder, GapEncoder, SuperVectorizer\n",
    "from sklearn.tree import DecisionTreeRegressor\n",
    "from sklearn.ensemble import BaggingRegressor, RandomForestRegressor\n",
    "from sklearn.ensemble import StackingRegressor, AdaBoostRegressor\n",
    "from sklearn.ensemble import ExtraTreesRegressor, GradientBoostingRegressor \n",
    "from sklearn.ensemble import HistGradientBoostingRegressor\n",
    "from sklearn.neural_network import MLPRegressor\n",
    "from sklearn.svm import LinearSVR\n",
    "from sklearn.model_selection import train_test_split\n",
    "from sklearn.model_selection import cross_val_score, KFold\n",
    "from sklearn.inspection import permutation_importance\n",
    "from sklearn.compose import make_column_transformer\n",
    "from sklearn.pipeline import make_pipeline\n",
    "%matplotlib inline"
   ]
  },
  {
   "cell_type": "markdown",
   "id": "7a409a2c",
   "metadata": {},
   "source": [
    "### Task 2: Preparing proper form of input data for both traing and testing"
   ]
  },
  {
   "cell_type": "code",
   "execution_count": 3,
   "id": "ef70e4c5",
   "metadata": {},
   "outputs": [
    {
     "data": {
      "text/html": [
       "<div>\n",
       "<style scoped>\n",
       "    .dataframe tbody tr th:only-of-type {\n",
       "        vertical-align: middle;\n",
       "    }\n",
       "\n",
       "    .dataframe tbody tr th {\n",
       "        vertical-align: top;\n",
       "    }\n",
       "\n",
       "    .dataframe thead th {\n",
       "        text-align: right;\n",
       "    }\n",
       "</style>\n",
       "<table border=\"1\" class=\"dataframe\">\n",
       "  <thead>\n",
       "    <tr style=\"text-align: right;\">\n",
       "      <th></th>\n",
       "      <th>date</th>\n",
       "      <th>open</th>\n",
       "      <th>high</th>\n",
       "      <th>low</th>\n",
       "      <th>close</th>\n",
       "      <th>volume</th>\n",
       "      <th>symbol</th>\n",
       "    </tr>\n",
       "  </thead>\n",
       "  <tbody>\n",
       "    <tr>\n",
       "      <th>0</th>\n",
       "      <td>2021-01-04</td>\n",
       "      <td>17.05</td>\n",
       "      <td>17.70</td>\n",
       "      <td>16.90</td>\n",
       "      <td>17.55</td>\n",
       "      <td>46809600</td>\n",
       "      <td>STB</td>\n",
       "    </tr>\n",
       "    <tr>\n",
       "      <th>1</th>\n",
       "      <td>2021-01-05</td>\n",
       "      <td>17.55</td>\n",
       "      <td>17.95</td>\n",
       "      <td>17.45</td>\n",
       "      <td>17.70</td>\n",
       "      <td>23399500</td>\n",
       "      <td>STB</td>\n",
       "    </tr>\n",
       "    <tr>\n",
       "      <th>2</th>\n",
       "      <td>2021-01-06</td>\n",
       "      <td>17.90</td>\n",
       "      <td>18.35</td>\n",
       "      <td>17.70</td>\n",
       "      <td>18.00</td>\n",
       "      <td>32553600</td>\n",
       "      <td>STB</td>\n",
       "    </tr>\n",
       "    <tr>\n",
       "      <th>3</th>\n",
       "      <td>2021-01-07</td>\n",
       "      <td>18.05</td>\n",
       "      <td>18.45</td>\n",
       "      <td>17.85</td>\n",
       "      <td>18.45</td>\n",
       "      <td>40903700</td>\n",
       "      <td>STB</td>\n",
       "    </tr>\n",
       "    <tr>\n",
       "      <th>4</th>\n",
       "      <td>2021-01-08</td>\n",
       "      <td>18.80</td>\n",
       "      <td>19.50</td>\n",
       "      <td>18.65</td>\n",
       "      <td>19.40</td>\n",
       "      <td>36089200</td>\n",
       "      <td>STB</td>\n",
       "    </tr>\n",
       "    <tr>\n",
       "      <th>...</th>\n",
       "      <td>...</td>\n",
       "      <td>...</td>\n",
       "      <td>...</td>\n",
       "      <td>...</td>\n",
       "      <td>...</td>\n",
       "      <td>...</td>\n",
       "      <td>...</td>\n",
       "    </tr>\n",
       "    <tr>\n",
       "      <th>6144</th>\n",
       "      <td>2021-10-25</td>\n",
       "      <td>75.90</td>\n",
       "      <td>76.90</td>\n",
       "      <td>75.50</td>\n",
       "      <td>76.00</td>\n",
       "      <td>315300</td>\n",
       "      <td>REE</td>\n",
       "    </tr>\n",
       "    <tr>\n",
       "      <th>6145</th>\n",
       "      <td>2021-10-26</td>\n",
       "      <td>75.30</td>\n",
       "      <td>76.00</td>\n",
       "      <td>73.50</td>\n",
       "      <td>75.20</td>\n",
       "      <td>401500</td>\n",
       "      <td>REE</td>\n",
       "    </tr>\n",
       "    <tr>\n",
       "      <th>6146</th>\n",
       "      <td>2021-10-27</td>\n",
       "      <td>74.90</td>\n",
       "      <td>76.30</td>\n",
       "      <td>74.30</td>\n",
       "      <td>76.00</td>\n",
       "      <td>547600</td>\n",
       "      <td>REE</td>\n",
       "    </tr>\n",
       "    <tr>\n",
       "      <th>6147</th>\n",
       "      <td>2021-10-28</td>\n",
       "      <td>75.80</td>\n",
       "      <td>76.90</td>\n",
       "      <td>75.50</td>\n",
       "      <td>76.00</td>\n",
       "      <td>424400</td>\n",
       "      <td>REE</td>\n",
       "    </tr>\n",
       "    <tr>\n",
       "      <th>6148</th>\n",
       "      <td>2021-10-29</td>\n",
       "      <td>76.10</td>\n",
       "      <td>76.90</td>\n",
       "      <td>74.80</td>\n",
       "      <td>74.80</td>\n",
       "      <td>564000</td>\n",
       "      <td>REE</td>\n",
       "    </tr>\n",
       "  </tbody>\n",
       "</table>\n",
       "<p>6149 rows × 7 columns</p>\n",
       "</div>"
      ],
      "text/plain": [
       "            date   open   high    low  close    volume symbol\n",
       "0     2021-01-04  17.05  17.70  16.90  17.55  46809600    STB\n",
       "1     2021-01-05  17.55  17.95  17.45  17.70  23399500    STB\n",
       "2     2021-01-06  17.90  18.35  17.70  18.00  32553600    STB\n",
       "3     2021-01-07  18.05  18.45  17.85  18.45  40903700    STB\n",
       "4     2021-01-08  18.80  19.50  18.65  19.40  36089200    STB\n",
       "...          ...    ...    ...    ...    ...       ...    ...\n",
       "6144  2021-10-25  75.90  76.90  75.50  76.00    315300    REE\n",
       "6145  2021-10-26  75.30  76.00  73.50  75.20    401500    REE\n",
       "6146  2021-10-27  74.90  76.30  74.30  76.00    547600    REE\n",
       "6147  2021-10-28  75.80  76.90  75.50  76.00    424400    REE\n",
       "6148  2021-10-29  76.10  76.90  74.80  74.80    564000    REE\n",
       "\n",
       "[6149 rows x 7 columns]"
      ]
     },
     "execution_count": 3,
     "metadata": {},
     "output_type": "execute_result"
    }
   ],
   "source": [
    "# read training data \n",
    "df = pd.read_csv('price_train.csv')\n",
    "df"
   ]
  },
  {
   "cell_type": "code",
   "execution_count": 4,
   "id": "32878fa5",
   "metadata": {},
   "outputs": [
    {
     "data": {
      "text/html": [
       "<div>\n",
       "<style scoped>\n",
       "    .dataframe tbody tr th:only-of-type {\n",
       "        vertical-align: middle;\n",
       "    }\n",
       "\n",
       "    .dataframe tbody tr th {\n",
       "        vertical-align: top;\n",
       "    }\n",
       "\n",
       "    .dataframe thead th {\n",
       "        text-align: right;\n",
       "    }\n",
       "</style>\n",
       "<table border=\"1\" class=\"dataframe\">\n",
       "  <thead>\n",
       "    <tr style=\"text-align: right;\">\n",
       "      <th></th>\n",
       "      <th>Id</th>\n",
       "      <th>Predicted</th>\n",
       "    </tr>\n",
       "  </thead>\n",
       "  <tbody>\n",
       "    <tr>\n",
       "      <th>0</th>\n",
       "      <td>2021-11-01:BID</td>\n",
       "      <td>0.0</td>\n",
       "    </tr>\n",
       "    <tr>\n",
       "      <th>1</th>\n",
       "      <td>2021-11-02:BID</td>\n",
       "      <td>0.0</td>\n",
       "    </tr>\n",
       "    <tr>\n",
       "      <th>2</th>\n",
       "      <td>2021-11-03:BID</td>\n",
       "      <td>0.0</td>\n",
       "    </tr>\n",
       "    <tr>\n",
       "      <th>3</th>\n",
       "      <td>2021-11-04:BID</td>\n",
       "      <td>0.0</td>\n",
       "    </tr>\n",
       "    <tr>\n",
       "      <th>4</th>\n",
       "      <td>2021-11-05:BID</td>\n",
       "      <td>0.0</td>\n",
       "    </tr>\n",
       "    <tr>\n",
       "      <th>...</th>\n",
       "      <td>...</td>\n",
       "      <td>...</td>\n",
       "    </tr>\n",
       "    <tr>\n",
       "      <th>625</th>\n",
       "      <td>2021-11-23:VRE</td>\n",
       "      <td>0.0</td>\n",
       "    </tr>\n",
       "    <tr>\n",
       "      <th>626</th>\n",
       "      <td>2021-11-24:VRE</td>\n",
       "      <td>0.0</td>\n",
       "    </tr>\n",
       "    <tr>\n",
       "      <th>627</th>\n",
       "      <td>2021-11-25:VRE</td>\n",
       "      <td>0.0</td>\n",
       "    </tr>\n",
       "    <tr>\n",
       "      <th>628</th>\n",
       "      <td>2021-11-26:VRE</td>\n",
       "      <td>0.0</td>\n",
       "    </tr>\n",
       "    <tr>\n",
       "      <th>629</th>\n",
       "      <td>2021-11-29:VRE</td>\n",
       "      <td>0.0</td>\n",
       "    </tr>\n",
       "  </tbody>\n",
       "</table>\n",
       "<p>630 rows × 2 columns</p>\n",
       "</div>"
      ],
      "text/plain": [
       "                 Id  Predicted\n",
       "0    2021-11-01:BID        0.0\n",
       "1    2021-11-02:BID        0.0\n",
       "2    2021-11-03:BID        0.0\n",
       "3    2021-11-04:BID        0.0\n",
       "4    2021-11-05:BID        0.0\n",
       "..              ...        ...\n",
       "625  2021-11-23:VRE        0.0\n",
       "626  2021-11-24:VRE        0.0\n",
       "627  2021-11-25:VRE        0.0\n",
       "628  2021-11-26:VRE        0.0\n",
       "629  2021-11-29:VRE        0.0\n",
       "\n",
       "[630 rows x 2 columns]"
      ]
     },
     "execution_count": 4,
     "metadata": {},
     "output_type": "execute_result"
    }
   ],
   "source": [
    "# Note: don't use the 'price_test.csv' \n",
    "sub = pd.read_csv('sample_submission.csv')\n",
    "sub"
   ]
  },
  {
   "cell_type": "code",
   "execution_count": 5,
   "id": "47b8be28",
   "metadata": {},
   "outputs": [
    {
     "data": {
      "text/html": [
       "<div>\n",
       "<style scoped>\n",
       "    .dataframe tbody tr th:only-of-type {\n",
       "        vertical-align: middle;\n",
       "    }\n",
       "\n",
       "    .dataframe tbody tr th {\n",
       "        vertical-align: top;\n",
       "    }\n",
       "\n",
       "    .dataframe thead th {\n",
       "        text-align: right;\n",
       "    }\n",
       "</style>\n",
       "<table border=\"1\" class=\"dataframe\">\n",
       "  <thead>\n",
       "    <tr style=\"text-align: right;\">\n",
       "      <th></th>\n",
       "      <th>date</th>\n",
       "      <th>symbol</th>\n",
       "    </tr>\n",
       "  </thead>\n",
       "  <tbody>\n",
       "    <tr>\n",
       "      <th>0</th>\n",
       "      <td>2021-11-01</td>\n",
       "      <td>BID</td>\n",
       "    </tr>\n",
       "    <tr>\n",
       "      <th>1</th>\n",
       "      <td>2021-11-02</td>\n",
       "      <td>BID</td>\n",
       "    </tr>\n",
       "    <tr>\n",
       "      <th>2</th>\n",
       "      <td>2021-11-03</td>\n",
       "      <td>BID</td>\n",
       "    </tr>\n",
       "    <tr>\n",
       "      <th>3</th>\n",
       "      <td>2021-11-04</td>\n",
       "      <td>BID</td>\n",
       "    </tr>\n",
       "    <tr>\n",
       "      <th>4</th>\n",
       "      <td>2021-11-05</td>\n",
       "      <td>BID</td>\n",
       "    </tr>\n",
       "    <tr>\n",
       "      <th>...</th>\n",
       "      <td>...</td>\n",
       "      <td>...</td>\n",
       "    </tr>\n",
       "    <tr>\n",
       "      <th>625</th>\n",
       "      <td>2021-11-23</td>\n",
       "      <td>VRE</td>\n",
       "    </tr>\n",
       "    <tr>\n",
       "      <th>626</th>\n",
       "      <td>2021-11-24</td>\n",
       "      <td>VRE</td>\n",
       "    </tr>\n",
       "    <tr>\n",
       "      <th>627</th>\n",
       "      <td>2021-11-25</td>\n",
       "      <td>VRE</td>\n",
       "    </tr>\n",
       "    <tr>\n",
       "      <th>628</th>\n",
       "      <td>2021-11-26</td>\n",
       "      <td>VRE</td>\n",
       "    </tr>\n",
       "    <tr>\n",
       "      <th>629</th>\n",
       "      <td>2021-11-29</td>\n",
       "      <td>VRE</td>\n",
       "    </tr>\n",
       "  </tbody>\n",
       "</table>\n",
       "<p>630 rows × 2 columns</p>\n",
       "</div>"
      ],
      "text/plain": [
       "           date symbol\n",
       "0    2021-11-01    BID\n",
       "1    2021-11-02    BID\n",
       "2    2021-11-03    BID\n",
       "3    2021-11-04    BID\n",
       "4    2021-11-05    BID\n",
       "..          ...    ...\n",
       "625  2021-11-23    VRE\n",
       "626  2021-11-24    VRE\n",
       "627  2021-11-25    VRE\n",
       "628  2021-11-26    VRE\n",
       "629  2021-11-29    VRE\n",
       "\n",
       "[630 rows x 2 columns]"
      ]
     },
     "execution_count": 5,
     "metadata": {},
     "output_type": "execute_result"
    }
   ],
   "source": [
    "# create a df_test\n",
    "data = [i for i in sub['Id'].str.split(':')]\n",
    "\n",
    "df_test = pd.DataFrame(data, columns=['date', 'symbol'])\n",
    "df_test"
   ]
  },
  {
   "cell_type": "markdown",
   "id": "23bd1e23",
   "metadata": {},
   "source": [
    "### Task 3: Create a custom function transformer for feature engineering with datetime"
   ]
  },
  {
   "cell_type": "code",
   "execution_count": 6,
   "id": "855b46b1",
   "metadata": {},
   "outputs": [],
   "source": [
    "# define a function to create \"month\" and \"day of year\" features\n",
    "def datetime_features(df):\n",
    "    df = pd.DataFrame(df)\n",
    "    df['date'] = pd.to_datetime(df['date'])\n",
    "    df['month'] = df['date'].dt.month \n",
    "    df['day_of_year'] = df['date'].dt.dayofyear\n",
    "    return df[['month', 'day_of_year']]"
   ]
  },
  {
   "cell_type": "code",
   "execution_count": 7,
   "id": "0bcf42a3",
   "metadata": {},
   "outputs": [],
   "source": [
    "# make a custom transformer\n",
    "make_datetime_features = FunctionTransformer(datetime_features)"
   ]
  },
  {
   "cell_type": "code",
   "execution_count": 8,
   "id": "8a195792",
   "metadata": {},
   "outputs": [
    {
     "data": {
      "text/html": [
       "<div>\n",
       "<style scoped>\n",
       "    .dataframe tbody tr th:only-of-type {\n",
       "        vertical-align: middle;\n",
       "    }\n",
       "\n",
       "    .dataframe tbody tr th {\n",
       "        vertical-align: top;\n",
       "    }\n",
       "\n",
       "    .dataframe thead th {\n",
       "        text-align: right;\n",
       "    }\n",
       "</style>\n",
       "<table border=\"1\" class=\"dataframe\">\n",
       "  <thead>\n",
       "    <tr style=\"text-align: right;\">\n",
       "      <th></th>\n",
       "      <th>month</th>\n",
       "      <th>day_of_year</th>\n",
       "    </tr>\n",
       "  </thead>\n",
       "  <tbody>\n",
       "    <tr>\n",
       "      <th>0</th>\n",
       "      <td>1</td>\n",
       "      <td>4</td>\n",
       "    </tr>\n",
       "    <tr>\n",
       "      <th>1</th>\n",
       "      <td>1</td>\n",
       "      <td>5</td>\n",
       "    </tr>\n",
       "    <tr>\n",
       "      <th>2</th>\n",
       "      <td>1</td>\n",
       "      <td>6</td>\n",
       "    </tr>\n",
       "    <tr>\n",
       "      <th>3</th>\n",
       "      <td>1</td>\n",
       "      <td>7</td>\n",
       "    </tr>\n",
       "    <tr>\n",
       "      <th>4</th>\n",
       "      <td>1</td>\n",
       "      <td>8</td>\n",
       "    </tr>\n",
       "    <tr>\n",
       "      <th>...</th>\n",
       "      <td>...</td>\n",
       "      <td>...</td>\n",
       "    </tr>\n",
       "    <tr>\n",
       "      <th>6144</th>\n",
       "      <td>10</td>\n",
       "      <td>298</td>\n",
       "    </tr>\n",
       "    <tr>\n",
       "      <th>6145</th>\n",
       "      <td>10</td>\n",
       "      <td>299</td>\n",
       "    </tr>\n",
       "    <tr>\n",
       "      <th>6146</th>\n",
       "      <td>10</td>\n",
       "      <td>300</td>\n",
       "    </tr>\n",
       "    <tr>\n",
       "      <th>6147</th>\n",
       "      <td>10</td>\n",
       "      <td>301</td>\n",
       "    </tr>\n",
       "    <tr>\n",
       "      <th>6148</th>\n",
       "      <td>10</td>\n",
       "      <td>302</td>\n",
       "    </tr>\n",
       "  </tbody>\n",
       "</table>\n",
       "<p>6149 rows × 2 columns</p>\n",
       "</div>"
      ],
      "text/plain": [
       "      month  day_of_year\n",
       "0         1            4\n",
       "1         1            5\n",
       "2         1            6\n",
       "3         1            7\n",
       "4         1            8\n",
       "...     ...          ...\n",
       "6144     10          298\n",
       "6145     10          299\n",
       "6146     10          300\n",
       "6147     10          301\n",
       "6148     10          302\n",
       "\n",
       "[6149 rows x 2 columns]"
      ]
     },
     "execution_count": 8,
     "metadata": {},
     "output_type": "execute_result"
    }
   ],
   "source": [
    "# check whether the custom function work or not by trying \"fit_transform\" method\n",
    "make_datetime_features.fit_transform(df[['date']])"
   ]
  },
  {
   "cell_type": "markdown",
   "id": "279393ae",
   "metadata": {},
   "source": [
    "### Task 4: Select the best encoder for the model"
   ]
  },
  {
   "cell_type": "code",
   "execution_count": 9,
   "id": "5e5a40ea",
   "metadata": {},
   "outputs": [],
   "source": [
    "features = ['date', 'symbol']\n",
    "\n",
    "X = df[['symbol', 'date']]\n",
    "y = df['close']"
   ]
  },
  {
   "cell_type": "code",
   "execution_count": 10,
   "id": "e133aa0f",
   "metadata": {},
   "outputs": [
    {
     "data": {
      "text/plain": [
       "{'one-hot': OneHotEncoder(handle_unknown='ignore'),\n",
       " 'similarity': SimilarityEncoder(),\n",
       " 'target': TargetEncoder(handle_unknown='ignore'),\n",
       " 'gap': GapEncoder(n_components=20, random_state=5),\n",
       " 'super-vectorizer': SuperVectorizer(cardinality_threshold=20)}"
      ]
     },
     "execution_count": 10,
     "metadata": {},
     "output_type": "execute_result"
    }
   ],
   "source": [
    "# Prepare a dict of encoders for looping\n",
    "encoders = {}\n",
    "encoders['one-hot'] = OneHotEncoder(handle_unknown='ignore')\n",
    "encoders['similarity'] = SimilarityEncoder(similarity='ngram')\n",
    "encoders['target'] = TargetEncoder(handle_unknown='ignore')\n",
    "encoders['gap'] = GapEncoder(n_components=20, random_state=5)\n",
    "encoders['super-vectorizer'] = SuperVectorizer(auto_cast=True, cardinality_threshold=20)\n",
    "encoders"
   ]
  },
  {
   "cell_type": "code",
   "execution_count": 11,
   "id": "43a2b2a7",
   "metadata": {},
   "outputs": [
    {
     "data": {
      "application/vnd.jupyter.widget-view+json": {
       "model_id": "2e444b06bcc348df9ed312bf1b77c3a9",
       "version_major": 2,
       "version_minor": 0
      },
      "text/plain": [
       "  0%|          | 0/5 [00:00<?, ?it/s]"
      ]
     },
     "metadata": {},
     "output_type": "display_data"
    },
    {
     "name": "stdout",
     "output_type": "stream",
     "text": [
      "One-Hot Encoding (MAPE=0.013)\n",
      "Similarity Encoding (MAPE=0.013)\n",
      "Target Encoding (MAPE=0.014)\n",
      "Gap Encoding (MAPE=0.318)\n",
      "Super-Vectorizer Encoding (MAPE=0.035)\n"
     ]
    }
   ],
   "source": [
    "# We now loop over the different encoding methods, \n",
    "# instantiate a new Pipeline each time, \n",
    "# fit it and store the returned cross-validation score.\n",
    "\n",
    "kf = KFold(5, shuffle=True, random_state=1)\n",
    "\n",
    "for name, method in tqdm(encoders.items()):\n",
    "    \n",
    "    # make a transformer to try out different encoding methods\n",
    "    ct = make_column_transformer((method, ['symbol']),\n",
    "                                 (make_datetime_features, ['date']))\n",
    "    \n",
    "    # initialize xgboost regression model\n",
    "    xgb_reg = XGBRegressor(n_estimators=5000, \n",
    "                           learning_rate=0.04, \n",
    "                           random_state=1, \n",
    "                           n_jobs=-1)\n",
    "    \n",
    "    # prepare a scaling for the pipeline\n",
    "    scaler = StandardScaler(with_mean=False)\n",
    "    \n",
    "    # make a pipline with the transformer, sclaer, and model respectively\n",
    "    pipe = make_pipeline(ct, scaler, xgb_reg)\n",
    "    \n",
    "    # compute cross-validation score.\n",
    "    scores = cross_val_score(pipe, X, y, cv=kf, scoring='neg_mean_absolute_percentage_error', n_jobs=-1).mean()\n",
    "    mape = scores*(-1)\n",
    "    print(f'{name.title()} Encoding (MAPE={mape:.3f})')"
   ]
  },
  {
   "cell_type": "markdown",
   "id": "f8f9f8e0",
   "metadata": {},
   "source": [
    "**Choose one-hot encoding as an encoder for the model.**"
   ]
  },
  {
   "cell_type": "markdown",
   "id": "5f6c63a2",
   "metadata": {},
   "source": [
    "### Task 5: Compute feature Importance by using permutation importance"
   ]
  },
  {
   "cell_type": "code",
   "execution_count": 12,
   "id": "0aa44c85",
   "metadata": {},
   "outputs": [],
   "source": [
    "X_train, X_test, y_train, y_test = train_test_split(X, y, \n",
    "                                                    test_size=0.4, \n",
    "                                                    random_state=1)"
   ]
  },
  {
   "cell_type": "code",
   "execution_count": 13,
   "id": "3a95f010",
   "metadata": {},
   "outputs": [],
   "source": [
    "ohe = OneHotEncoder(handle_unknown='ignore')\n",
    "\n",
    "ct = make_column_transformer((ohe, ['symbol']),\n",
    "                             (make_datetime_features, ['date']))"
   ]
  },
  {
   "cell_type": "code",
   "execution_count": 14,
   "id": "b4fd6883",
   "metadata": {},
   "outputs": [],
   "source": [
    "X_train_transformed = ct.fit_transform(X_train).toarray()\n",
    "X_test_transformered = ct.transform(X_test).toarray()"
   ]
  },
  {
   "cell_type": "code",
   "execution_count": 15,
   "id": "ae33dd77",
   "metadata": {
    "scrolled": false
   },
   "outputs": [
    {
     "data": {
      "text/plain": [
       "XGBRegressor(base_score=0.5, booster='gbtree', colsample_bylevel=1,\n",
       "             colsample_bynode=1, colsample_bytree=1, enable_categorical=False,\n",
       "             gamma=0, gpu_id=-1, importance_type=None,\n",
       "             interaction_constraints='', learning_rate=0.04, max_delta_step=0,\n",
       "             max_depth=6, min_child_weight=1, missing=nan,\n",
       "             monotone_constraints='()', n_estimators=5000, n_jobs=-1,\n",
       "             num_parallel_tree=1, predictor='auto', random_state=1, reg_alpha=0,\n",
       "             reg_lambda=1, scale_pos_weight=1, subsample=1, tree_method='exact',\n",
       "             validate_parameters=1, verbosity=None)"
      ]
     },
     "execution_count": 15,
     "metadata": {},
     "output_type": "execute_result"
    }
   ],
   "source": [
    "xgb_reg = XGBRegressor(n_estimators=5000, \n",
    "                       learning_rate=0.04, \n",
    "                       random_state=1, n_jobs=-1)\n",
    "\n",
    "xgb_reg.fit(X_train_transformed, y_train)"
   ]
  },
  {
   "cell_type": "code",
   "execution_count": 16,
   "id": "731b7095",
   "metadata": {},
   "outputs": [
    {
     "name": "stderr",
     "output_type": "stream",
     "text": [
      "C:\\Users\\HP\\anaconda3\\lib\\site-packages\\cupy\\_environment.py:213: UserWarning: CUDA path could not be detected. Set CUDA_PATH environment variable if CuPy fails to load.\n",
      "  warnings.warn(\n"
     ]
    }
   ],
   "source": [
    "result = permutation_importance(estimator=xgb_reg, \n",
    "                                X=X_test_transformered, y=y_test, \n",
    "                                scoring='neg_mean_absolute_percentage_error', \n",
    "                                n_repeats=60,\n",
    "                                random_state=1,\n",
    "                                n_jobs=-1)"
   ]
  },
  {
   "cell_type": "code",
   "execution_count": 17,
   "id": "25237758",
   "metadata": {},
   "outputs": [
    {
     "data": {
      "text/plain": [
       "array([0.01270159, 0.00520808, 0.02050573, 0.03260261, 0.03868564,\n",
       "       0.04414285, 0.0069227 , 0.02152181, 0.03365376, 0.05714756,\n",
       "       0.0959571 , 0.04524401, 0.02477231, 0.002608  , 0.04005744,\n",
       "       0.14272968, 0.005013  , 0.06248544, 0.01792793, 0.05037472,\n",
       "       0.00965443, 0.06997572, 0.02799712, 0.04755115, 0.04137606,\n",
       "       0.05277803, 0.06280042, 0.04033724, 0.01390998, 0.03666372,\n",
       "       0.01242441, 0.12002375])"
      ]
     },
     "execution_count": 17,
     "metadata": {},
     "output_type": "execute_result"
    }
   ],
   "source": [
    "result.importances_mean"
   ]
  },
  {
   "cell_type": "code",
   "execution_count": 18,
   "id": "bfc56fd6",
   "metadata": {},
   "outputs": [
    {
     "data": {
      "text/plain": [
       "array([0.00050434, 0.00040862, 0.0008151 , 0.00231209, 0.0023726 ,\n",
       "       0.00111357, 0.00038238, 0.00069298, 0.00095899, 0.00438355,\n",
       "       0.00508131, 0.00371595, 0.00205477, 0.00020745, 0.00323329,\n",
       "       0.00316568, 0.00066508, 0.00157785, 0.00087664, 0.00120239,\n",
       "       0.00067406, 0.00154681, 0.00082349, 0.00303437, 0.00289125,\n",
       "       0.00287208, 0.00513757, 0.00232859, 0.00087463, 0.00066885,\n",
       "       0.00029598, 0.00212804])"
      ]
     },
     "execution_count": 18,
     "metadata": {},
     "output_type": "execute_result"
    }
   ],
   "source": [
    "result.importances_std"
   ]
  },
  {
   "cell_type": "code",
   "execution_count": 19,
   "id": "4fe83b68",
   "metadata": {},
   "outputs": [
    {
     "data": {
      "text/plain": [
       "array(['BID', 'BVH', 'CTG', 'FPT', 'GAS', 'HDB', 'HPG', 'KDH', 'MBB',\n",
       "       'MSN', 'MWG', 'NVL', 'PDR', 'PLX', 'PNJ', 'POW', 'REE', 'SBT',\n",
       "       'SSI', 'STB', 'TCB', 'TCH', 'TPB', 'VCB', 'VHM', 'VIC', 'VJC',\n",
       "       'VNM', 'VPB', 'VRE'], dtype=object)"
      ]
     },
     "execution_count": 19,
     "metadata": {},
     "output_type": "execute_result"
    }
   ],
   "source": [
    "feature_names = ct.transformers_[0][1].categories_[0]\n",
    "feature_names"
   ]
  },
  {
   "cell_type": "code",
   "execution_count": 20,
   "id": "12509c31",
   "metadata": {},
   "outputs": [
    {
     "data": {
      "text/plain": [
       "array(['BID', 'BVH', 'CTG', 'FPT', 'GAS', 'HDB', 'HPG', 'KDH', 'MBB',\n",
       "       'MSN', 'MWG', 'NVL', 'PDR', 'PLX', 'PNJ', 'POW', 'REE', 'SBT',\n",
       "       'SSI', 'STB', 'TCB', 'TCH', 'TPB', 'VCB', 'VHM', 'VIC', 'VJC',\n",
       "       'VNM', 'VPB', 'VRE', 'month', 'day_of_year'], dtype=object)"
      ]
     },
     "execution_count": 20,
     "metadata": {},
     "output_type": "execute_result"
    }
   ],
   "source": [
    "feature_labels = np.r_[feature_names, ['month', 'day_of_year']]\n",
    "feature_labels"
   ]
  },
  {
   "cell_type": "code",
   "execution_count": 21,
   "id": "8f2a4587",
   "metadata": {},
   "outputs": [
    {
     "data": {
      "text/plain": [
       "array([13, 16,  1,  6, 20, 30,  0, 28, 18,  2,  7, 12, 22,  3,  8, 29,  4,\n",
       "       14, 27, 24,  5, 11, 23, 19, 25,  9, 17, 26, 21, 10, 31, 15],\n",
       "      dtype=int64)"
      ]
     },
     "execution_count": 21,
     "metadata": {},
     "output_type": "execute_result"
    }
   ],
   "source": [
    "sorted_indices = result['importances_mean'].argsort()\n",
    "sorted_indices"
   ]
  },
  {
   "cell_type": "code",
   "execution_count": 22,
   "id": "3b0bb270",
   "metadata": {},
   "outputs": [
    {
     "data": {
      "image/png": "[encoded data removed]",
      "text/plain": [
       "<Figure size 720x576 with 1 Axes>"
      ]
     },
     "metadata": {
      "needs_background": "light"
     },
     "output_type": "display_data"
    }
   ],
   "source": [
    "plt.figure(figsize=(10, 8))\n",
    "plt.title('Extreme Gradient Boosting Importance via Permutation Importance')\n",
    "\n",
    "plt.barh(\n",
    "    feature_labels[sorted_indices], \n",
    "    result['importances_mean'][sorted_indices],\n",
    "    xerr=result['importances_std'][sorted_indices]\n",
    ")\n",
    "\n",
    "plt.ylabel('Features')\n",
    "plt.xlabel('Importances')\n",
    "\n",
    "plt.tight_layout()\n",
    "plt.show()"
   ]
  },
  {
   "cell_type": "markdown",
   "id": "10ed8516",
   "metadata": {},
   "source": [
    "### Task 6: Create transformers and pipelines"
   ]
  },
  {
   "cell_type": "code",
   "execution_count": 23,
   "id": "a1145cfb",
   "metadata": {},
   "outputs": [],
   "source": [
    "# transformers\n",
    "ohe = OneHotEncoder(handle_unknown='ignore')\n",
    "ct = make_column_transformer((ohe, ['symbol']), \n",
    "                             (make_datetime_features, ['date']))\n",
    "\n",
    "\n",
    "\n",
    "#############################################################################################\n",
    "################################# initialize model ##########################################\n",
    "\n",
    "# model 1\n",
    "xgb_reg = XGBRegressor(n_estimators=5000, \n",
    "                       learning_rate=0.04, \n",
    "                       random_state=1, n_jobs=-1)\n",
    "\n",
    "# model 2\n",
    "tree_1 = DecisionTreeRegressor(max_depth=None, random_state=2)\n",
    "bag_reg = BaggingRegressor(base_estimator=tree_1, \n",
    "                           n_estimators=5000, \n",
    "                           random_state=1)\n",
    "\n",
    "# model 3\n",
    "forest_reg = RandomForestRegressor(n_estimators=5000, \n",
    "                                   random_state=2)\n",
    "\n",
    "# model 4\n",
    "linreg = LinearRegression()\n",
    "\n",
    "# model 5\n",
    "tweed = TweedieRegressor(power=1, alpha=0.1, link='log')\n",
    "\n",
    "# model 6\n",
    "tree_2 = DecisionTreeRegressor(max_depth=None, random_state=2)\n",
    "ada_boost_reg = AdaBoostRegressor(base_estimator=tree_2, \n",
    "                                  learning_rate=0.2,\n",
    "                                  random_state=1, \n",
    "                                  n_estimators=5000)\n",
    "\n",
    "# model 7\n",
    "mlp_reg = MLPRegressor(random_state=1, \n",
    "                       max_iter=234, \n",
    "                       hidden_layer_sizes=(15000,))\n",
    "\n",
    "# model 8\n",
    "gradient_boost_reg = GradientBoostingRegressor(random_state=0, \n",
    "                                               n_estimators=5000)\n",
    "\n",
    "# model 9\n",
    "estimators = [('lr', xgb_reg), \n",
    "              ('svr', LinearSVR(random_state=42))]\n",
    "\n",
    "stacking_reg = StackingRegressor(estimators=estimators, \n",
    "                                 final_estimator=RandomForestRegressor(n_estimators=5000,\n",
    "                                                                       random_state=42))\n",
    "\n",
    "# model 10\n",
    "extra_tree = ExtraTreesRegressor(n_estimators=5000, \n",
    "                                 random_state=0)\n",
    "\n",
    "# model 11\n",
    "hist_boost_reg = HistGradientBoostingRegressor(learning_rate=0.5,\n",
    "                                               max_iter=1000)\n",
    "\n",
    "\n",
    "# prepare a scaler for doing scaling after the step of transformation in the pipeline\n",
    "scaler = StandardScaler(with_mean=False)\n",
    "\n",
    "\n",
    "\n",
    "#############################################################################################\n",
    "################################## make pipelines ###########################################\n",
    "\n",
    "pipe_1 = make_pipeline(ct, scaler, xgb_reg)\n",
    "pipe_2 = make_pipeline(ct, bag_reg)\n",
    "pipe_3 = make_pipeline(ct, forest_reg)\n",
    "pipe_4 = make_pipeline(ct, scaler, linreg)\n",
    "pipe_5 = make_pipeline(ct, scaler, tweed)\n",
    "pipe_6 = make_pipeline(ct, ada_boost_reg)\n",
    "pipe_7 = make_pipeline(ct, scaler, mlp_reg)\n",
    "pipe_8 = make_pipeline(ct, scaler, gradient_boost_reg)\n",
    "pipe_9 = make_pipeline(ct, stacking_reg)\n",
    "pipe_10 = make_pipeline(ct, extra_tree)"
   ]
  },
  {
   "cell_type": "markdown",
   "id": "baca1eca",
   "metadata": {},
   "source": [
    "### Task 7: fit and make predictions"
   ]
  },
  {
   "cell_type": "code",
   "execution_count": 24,
   "id": "ea856376",
   "metadata": {},
   "outputs": [],
   "source": [
    "X_test = df_test[features]"
   ]
  },
  {
   "cell_type": "code",
   "execution_count": 25,
   "id": "15491df4",
   "metadata": {
    "scrolled": true
   },
   "outputs": [
    {
     "name": "stderr",
     "output_type": "stream",
     "text": [
      "C:\\Users\\HP\\anaconda3\\lib\\site-packages\\cupy\\_environment.py:213: UserWarning: CUDA path could not be detected. Set CUDA_PATH environment variable if CuPy fails to load.\n",
      "  warnings.warn(\n"
     ]
    },
    {
     "name": "stdout",
     "output_type": "stream",
     "text": [
      "Model 1: Done\n",
      "Model 2: Done\n",
      "Model 3: Done\n",
      "Model 4: Done\n",
      "Model 5: Done\n",
      "Model 6: Done\n",
      "Model 7: Done\n",
      "Model 8: Done\n"
     ]
    },
    {
     "name": "stderr",
     "output_type": "stream",
     "text": [
      "C:\\Users\\HP\\anaconda3\\lib\\site-packages\\sklearn\\svm\\_base.py:1206: ConvergenceWarning: Liblinear failed to converge, increase the number of iterations.\n",
      "  warnings.warn(\n",
      "C:\\Users\\HP\\anaconda3\\lib\\site-packages\\cupy\\_environment.py:213: UserWarning: CUDA path could not be detected. Set CUDA_PATH environment variable if CuPy fails to load.\n",
      "  warnings.warn(\n",
      "C:\\Users\\HP\\anaconda3\\lib\\site-packages\\cupy\\_environment.py:213: UserWarning: CUDA path could not be detected. Set CUDA_PATH environment variable if CuPy fails to load.\n",
      "  warnings.warn(\n",
      "C:\\Users\\HP\\anaconda3\\lib\\site-packages\\cupy\\_environment.py:213: UserWarning: CUDA path could not be detected. Set CUDA_PATH environment variable if CuPy fails to load.\n",
      "  warnings.warn(\n",
      "C:\\Users\\HP\\anaconda3\\lib\\site-packages\\cupy\\_environment.py:213: UserWarning: CUDA path could not be detected. Set CUDA_PATH environment variable if CuPy fails to load.\n",
      "  warnings.warn(\n",
      "C:\\Users\\HP\\anaconda3\\lib\\site-packages\\cupy\\_environment.py:213: UserWarning: CUDA path could not be detected. Set CUDA_PATH environment variable if CuPy fails to load.\n",
      "  warnings.warn(\n",
      "C:\\Users\\HP\\anaconda3\\lib\\site-packages\\sklearn\\svm\\_base.py:1206: ConvergenceWarning: Liblinear failed to converge, increase the number of iterations.\n",
      "  warnings.warn(\n",
      "C:\\Users\\HP\\anaconda3\\lib\\site-packages\\sklearn\\svm\\_base.py:1206: ConvergenceWarning: Liblinear failed to converge, increase the number of iterations.\n",
      "  warnings.warn(\n",
      "C:\\Users\\HP\\anaconda3\\lib\\site-packages\\sklearn\\svm\\_base.py:1206: ConvergenceWarning: Liblinear failed to converge, increase the number of iterations.\n",
      "  warnings.warn(\n",
      "C:\\Users\\HP\\anaconda3\\lib\\site-packages\\sklearn\\svm\\_base.py:1206: ConvergenceWarning: Liblinear failed to converge, increase the number of iterations.\n",
      "  warnings.warn(\n",
      "C:\\Users\\HP\\anaconda3\\lib\\site-packages\\sklearn\\svm\\_base.py:1206: ConvergenceWarning: Liblinear failed to converge, increase the number of iterations.\n",
      "  warnings.warn(\n",
      "C:\\Users\\HP\\anaconda3\\lib\\site-packages\\cupy\\_environment.py:213: UserWarning: CUDA path could not be detected. Set CUDA_PATH environment variable if CuPy fails to load.\n",
      "  warnings.warn(\n"
     ]
    },
    {
     "name": "stdout",
     "output_type": "stream",
     "text": [
      "Model 9: Done\n",
      "Model 10: Done\n",
      "Model 11: Done\n"
     ]
    }
   ],
   "source": [
    "# model 1: xgboost\n",
    "pipe_1.fit(X, y)\n",
    "y_pred_1 = pipe_1.predict(X_test)\n",
    "print('Model 1: Done')\n",
    "\n",
    "# model 2: bagging\n",
    "pipe_2.fit(X, y)\n",
    "y_pred_2 = pipe_2.predict(X_test)\n",
    "print('Model 2: Done')\n",
    "\n",
    "# model 3: random forests\n",
    "pipe_3.fit(X, y)\n",
    "y_pred_3 = pipe_3.predict(X_test)\n",
    "print('Model 3: Done')\n",
    "\n",
    "# model 4: linear regression\n",
    "pipe_4.fit(X, y)\n",
    "y_pred_4 = pipe_4.predict(X_test)\n",
    "print('Model 4: Done')\n",
    "\n",
    "# model 5: tweed\n",
    "pipe_5.fit(X, y)\n",
    "y_pred_5 = pipe_5.predict(X_test)\n",
    "print('Model 5: Done')\n",
    "\n",
    "# model 6: adaboost\n",
    "pipe_6.fit(X, y)\n",
    "y_pred_6 = pipe_6.predict(X_test)\n",
    "print('Model 6: Done')\n",
    "\n",
    "# model 7: mlp\n",
    "pipe_7.fit(X, y)\n",
    "y_pred_7 = pipe_7.predict(X_test)\n",
    "print('Model 7: Done')\n",
    "\n",
    "# model 8: gradient boosting \n",
    "pipe_8.fit(X, y)\n",
    "y_pred_8 = pipe_8.predict(X_test)\n",
    "print('Model 8: Done')\n",
    "\n",
    "# model 9: stacking \n",
    "pipe_9.fit(X, y)\n",
    "y_pred_9 = pipe_9.predict(X_test)\n",
    "print('Model 9: Done')\n",
    "\n",
    "# model 10: extra tree\n",
    "pipe_10.fit(X, y)\n",
    "y_pred_10 = pipe_10.predict(X_test)\n",
    "print('Model 10: Done')\n",
    "\n",
    "# model 11: hist\n",
    "X = ct.fit_transform(X).toarray()\n",
    "X_test = ct.transform(X_test).toarray()\n",
    "\n",
    "hist_boost_reg.fit(X, y)\n",
    "y_pred_11 = hist_boost_reg.predict(X_test)\n",
    "print('Model 11: Done')"
   ]
  },
  {
   "cell_type": "code",
   "execution_count": 26,
   "id": "ef985f26",
   "metadata": {},
   "outputs": [],
   "source": [
    "pipe_11 = make_pipeline(ct, scaler, extra_tree)"
   ]
  },
  {
   "cell_type": "markdown",
   "id": "edabd7e4",
   "metadata": {},
   "source": [
    "### Task 8: Make a weighted average ensemble"
   ]
  },
  {
   "cell_type": "code",
   "execution_count": 27,
   "id": "42605163",
   "metadata": {},
   "outputs": [
    {
     "data": {
      "text/plain": [
       "array([ 41.38493247,  41.38805961,  41.39095435,  41.39416447,\n",
       "        41.39725886,  41.40728786,  41.41152155,  41.41775758,\n",
       "        41.42132998,  41.42610928,  41.43719692,  41.44108019,\n",
       "        41.44493397,  41.44877364,  41.45119329,  41.46281758,\n",
       "        41.46665031,  41.47031208,  41.47447579,  41.47963414,\n",
       "        41.49136799,  63.80873182,  63.81275362,  63.81716507,\n",
       "        63.8259321 ,  63.83036003,  63.84508623,  63.84959616,\n",
       "        63.85405283,  63.86596809,  63.87043664,  63.88495121,\n",
       "        63.89099204,  63.89548334,  63.91198285,  63.91642901,\n",
       "        63.9299536 ,  63.93446756,  63.93898498,  63.945291  ,\n",
       "        63.95010919,  63.9749466 ,  32.39626336,  32.39914272,\n",
       "        32.40208426,  32.40651944,  32.41009642,  32.41917346,\n",
       "        32.42208218,  32.42531251,  32.42832852,  32.43140752,\n",
       "        32.44102819,  32.44434902,  32.44769171,  32.45107931,\n",
       "        32.45450577,  32.46647738,  32.46995651,  32.47377427,\n",
       "        32.47605745,  32.47432526,  32.46188005,  95.01860663,\n",
       "        95.00191333,  95.00315124,  95.00680905,  94.99857704,\n",
       "        95.00964606,  95.00244201,  95.0062157 ,  95.01004657,\n",
       "        95.01376274,  95.01599503,  95.0200022 ,  95.02394121,\n",
       "        95.02799526,  95.03224605,  95.03941369,  95.04355517,\n",
       "        95.04750472,  95.05166552,  95.05000881,  95.0589931 ,\n",
       "       118.88985315, 118.89426914, 118.8986852 , 118.90310243,\n",
       "       118.90751967, 118.92077301, 118.92519192, 118.92961125,\n",
       "       118.93403101, 118.93845094, 118.95171839, 118.95614282,\n",
       "       118.96056731, 118.9649918 , 118.96941707, 118.98269498,\n",
       "       118.98712231, 118.99155018, 118.99597871, 119.00040731,\n",
       "       119.0136938 ,  26.19062363,  26.19328895,  26.19598875,\n",
       "        26.1987275 ,  26.20152107,  26.21038579,  26.21342132,\n",
       "        26.21646934,  26.21957137,  26.22271216,  26.23229224,\n",
       "        26.23553961,  26.23881407,  26.24211008,  26.2454932 ,\n",
       "        26.25596612,  26.25957193,  26.26321385,  26.26693809,\n",
       "        26.27070962,  26.28215839,  57.06601596,  57.07010561,\n",
       "        57.07388101,  56.98886028,  56.99289645,  57.00509041,\n",
       "        57.00927701,  57.01347361,  57.01768205,  57.02214124,\n",
       "        57.03507515,  57.13720672,  57.14542572,  57.14969841,\n",
       "        57.15397588,  57.16651928,  57.17083231,  57.25893172,\n",
       "        57.27027566,  57.28067473,  57.29395339,  50.05922487,\n",
       "        50.06387377,  50.06852524,  50.07317868,  50.07783372,\n",
       "        50.09182074,  50.09649072,  50.10116282,  50.1058374 ,\n",
       "        50.11051417,  50.12455718,  50.12924336,  50.13416262,\n",
       "        50.13885241,  50.1435443 ,  50.15763561,  50.16233783,\n",
       "        50.16704316,  50.17175024,  50.17645813,  50.18924892,\n",
       "        29.12537946,  29.12796505,  29.1305914 ,  29.13329512,\n",
       "        29.13607827,  29.14484895,  29.14787236,  29.1509418 ,\n",
       "        29.15406   ,  29.15724217,  29.16713246,  29.17047154,\n",
       "        29.17383131,  29.177215  ,  29.18061532,  29.19112727,\n",
       "        29.19470987,  29.19833735,  29.20201733,  29.20572299,\n",
       "        29.21700844, 144.51042077, 144.5142631 , 144.51811903,\n",
       "       144.52197498, 144.52583416, 144.53751382, 144.5414244 ,\n",
       "       144.54533596, 144.54924815, 144.55316311, 144.56493413,\n",
       "       144.56886182, 144.57279436, 144.57673154, 144.58067004,\n",
       "       144.59250068, 144.59645694, 144.60041589, 144.60437769,\n",
       "       144.60834631, 144.62027233, 129.39793385, 129.39869467,\n",
       "       129.39947801, 129.40027502, 129.40108949, 129.40392068,\n",
       "       129.40492848, 129.40599175, 129.40705548, 129.40812408,\n",
       "       129.41143769, 129.41257222, 129.41375142, 129.41495034,\n",
       "       129.41618302, 129.41995168, 129.4212428 , 129.42253967,\n",
       "       129.42387139, 129.42521479, 129.42925618, 106.20467999,\n",
       "       106.20820348, 106.21178339, 106.21535534, 106.21895035,\n",
       "       106.23584313, 106.23950708, 106.24321598, 106.24694448,\n",
       "       106.25545582, 106.27064631, 106.27442273, 106.27825903,\n",
       "       106.27448397, 106.27829096, 106.28990166, 106.29379713,\n",
       "       106.29769799, 106.3015989 , 106.30550137, 106.31722101,\n",
       "        93.40235768,  93.40665112,  93.41094588,  93.41524398,\n",
       "        93.41954807,  93.4324746 ,  93.43678722,  93.44110174,\n",
       "        93.44541764,  93.45009431,  93.4762349 ,  93.48056998,\n",
       "        93.48490685,  93.48924477,  93.49359339,  93.50665137,\n",
       "        93.51101129,  93.51537282,  93.51973865,  93.52410638,\n",
       "        93.54500999,  55.6927861 ,  55.69634302,  55.71188666,\n",
       "        55.71530819,  55.71876692,  55.72936445,  55.73301896,\n",
       "        55.73669203,  55.74042313,  55.74418779,  55.75557871,\n",
       "        55.75941518,  55.76974552,  55.78296051,  55.78686113,\n",
       "        55.79874618,  55.80274809,  55.80676639,  55.81079826,\n",
       "        55.81484811,  55.82709628, 100.92607079, 100.93040989,\n",
       "       100.93860327, 100.94293917, 100.94733336, 100.95282309,\n",
       "       100.95717935, 100.96153586, 100.96589273, 100.97025088,\n",
       "       100.9833319 , 100.98769474, 100.992058  , 100.99642209,\n",
       "       101.00078671, 101.01389953, 101.01827424, 101.02265015,\n",
       "       101.02702814, 101.03140874, 101.04456089,  13.64005292,\n",
       "        13.64355788,  13.64710523,  13.65079439,  13.65456627,\n",
       "        13.6661792 ,  13.670163  ,  13.6742056 ,  13.67834665,\n",
       "        13.68254402,  13.69537903,  13.69971775,  13.70406483,\n",
       "        13.70841505,  13.71276791,  13.72603254,  13.73051569,\n",
       "        13.73501393,  13.73951876,  13.74402479,  13.7575694 ,\n",
       "        72.76853307,  72.77321867,  72.78090131,  72.78559398,\n",
       "        72.79058887,  72.80831406,  72.81301231,  72.82234644,\n",
       "        72.82700534,  72.83170714,  72.84973797,  72.85444349,\n",
       "        72.85915017,  72.8630926 ,  72.86780109,  72.8790398 ,\n",
       "        72.88375107,  72.88846324,  72.89317694,  72.89789163,\n",
       "        72.91158219,  22.57568611,  22.57895987,  22.58235581,\n",
       "        22.58579393,  22.58934734,  22.60033955,  22.60409548,\n",
       "        22.60792394,  22.61180633,  22.61580142,  22.62826241,\n",
       "        22.63248987,  22.63674512,  22.64104365,  22.64536672,\n",
       "        22.65840089,  22.66276844,  22.66716458,  22.67159805,\n",
       "        22.67608399,  22.68960488,  41.88765212,  41.89036237,\n",
       "        41.89068986,  41.89180668,  41.8927275 ,  41.89122772,\n",
       "        41.88908781,  41.88928204,  41.88122051,  41.88225795,\n",
       "        41.70575015,  41.70810133,  41.70346056,  41.70580606,\n",
       "        41.70818816,  41.7158328 ,  41.71858526,  41.72135758,\n",
       "        41.72419028,  41.71762963,  41.71929676,  27.04035825,\n",
       "        27.04358083,  27.04686097,  27.05018991,  27.05355159,\n",
       "        27.06385421,  27.06745552,  27.07110388,  27.07479905,\n",
       "        27.07854847,  27.08997238,  27.09380735,  27.09768109,\n",
       "        27.10158325,  27.10550719,  27.11757638,  27.12163851,\n",
       "        27.12570932,  27.12978588,  27.13386307,  27.14617386,\n",
       "        51.74517416,  51.74797784,  51.76904807,  51.77900688,\n",
       "        51.7804673 ,  51.78889921,  51.78670281,  51.79006074,\n",
       "        51.79504779,  51.79847628,  51.79064534,  51.77004513,\n",
       "        51.77360353,  51.77717685,  51.77946833,  51.79069617,\n",
       "        51.7944752 ,  51.79831623,  52.22686433,  52.23069564,\n",
       "        52.86981369,  18.75464174,  18.75796653,  18.76134255,\n",
       "        18.76476951,  18.7682891 ,  18.77922662,  18.78297063,\n",
       "        18.78682024,  18.79069829,  18.79458507,  18.8066398 ,\n",
       "        18.81071989,  18.81489898,  18.81911658,  18.8233455 ,\n",
       "        18.83619211,  18.84050708,  18.8448352 ,  18.84918595,\n",
       "        18.85354824,  18.86670435,  45.78118765,  45.78546757,\n",
       "        45.78976364,  45.79407591,  45.79840525,  45.81145506,\n",
       "        45.81584237,  45.82023822,  45.82464114,  45.82904899,\n",
       "        45.84234319,  45.84678879,  45.85124493,  45.85571791,\n",
       "        45.86020022,  45.87371756,  45.87825068,  45.8827956 ,\n",
       "        45.88734582,  45.891903  ,  45.90561883,  96.41144711,\n",
       "        96.4138219 ,  96.41626089,  96.41871297,  96.42117699,\n",
       "        96.4288358 ,  96.43142831,  96.43413721,  96.43690195,\n",
       "        96.4396773 ,  96.44832808,  96.45124684,  96.45419528,\n",
       "        96.45718971,  96.46020261,  96.46927571,  96.47231266,\n",
       "        96.47535202,  96.47840074,  96.48145279,  96.49068661,\n",
       "        84.77059449,  84.77265779,  84.77475689,  84.77691704,\n",
       "        84.77911498,  84.78595162,  84.78832635,  84.7907285 ,\n",
       "        84.79315225,  84.79561083,  84.80312441,  84.80567515,\n",
       "        84.80824698,  84.81084457,  84.81345256,  84.82138953,\n",
       "        84.82406205,  84.82676137,  84.82946963,  84.83219275,\n",
       "        84.84041272,  95.05482063,  95.05806922,  95.06132042,\n",
       "        95.06457444,  95.0678357 ,  95.07763209,  95.08090105,\n",
       "        95.08417388,  95.08745027,  95.09074086,  95.10063443,\n",
       "        95.10393907,  95.10724521,  95.11055219,  95.11386041,\n",
       "        95.12379551,  95.12711133,  95.13042943,  95.13375145,\n",
       "        95.13708577,  95.14711772, 129.0348491 , 129.03843001,\n",
       "       129.04201525, 129.0456086 , 129.04920669, 129.06002918,\n",
       "       129.06364112, 129.06725628, 129.07087476, 129.07449649,\n",
       "       129.085379  , 129.08901592, 129.09265436, 129.09629308,\n",
       "       129.09993228, 129.11088422, 129.11454213, 129.1182018 ,\n",
       "       129.12186388, 129.1255309 , 129.13656851,  89.73891812,\n",
       "        89.7413586 ,  89.74386205,  89.74640962,  89.74901047,\n",
       "        89.7576116 ,  89.7606233 ,  89.7636823 ,  89.76675713,\n",
       "        89.76986097,  89.7793554 ,  89.78254646,  89.78575557,\n",
       "        89.78899302,  89.79225526,  89.80234045,  89.80579111,\n",
       "        89.80928284,  89.81283006,  89.81641226,  89.82726289,\n",
       "        39.76260523,  39.76337703,  39.76437717,  39.76549152,\n",
       "        39.76683285,  39.77104125,  39.77260663,  39.77418405,\n",
       "        39.77607896,  39.77941556,  39.78575561,  39.78806621,\n",
       "        39.79015191,  39.7915593 ,  39.79386654,  39.80205503,\n",
       "        39.80468975,  39.81045688,  39.81321838,  39.81617654,\n",
       "        39.82504848,  31.50884722,  31.51255848,  31.51632024,\n",
       "        31.52014152,  31.52397844,  31.53574145,  31.53970528,\n",
       "        31.54370684,  31.54773475,  31.55614934,  31.5734369 ,\n",
       "        31.57848765,  31.58327604,  31.58786016,  31.59206133,\n",
       "        31.62699944,  31.63134974,  31.64208452,  31.64901527,\n",
       "        31.6540974 ,  31.66830718])"
      ]
     },
     "execution_count": 27,
     "metadata": {},
     "output_type": "execute_result"
    }
   ],
   "source": [
    "# manually ensembling\n",
    "y_pred = (5*y_pred_1 + 2*y_pred_2 + 2*y_pred_3 + \n",
    "          y_pred_4 + y_pred_5 + 2*y_pred_6 + \n",
    "          y_pred_7 + 3*y_pred_8 + y_pred_9 + \n",
    "          3*y_pred_10 + 7*y_pred_11) / 28\n",
    "y_pred"
   ]
  },
  {
   "cell_type": "markdown",
   "id": "062a73a1",
   "metadata": {},
   "source": [
    "### Task 9: Make a submission"
   ]
  },
  {
   "cell_type": "code",
   "execution_count": 28,
   "id": "bae71cc7",
   "metadata": {},
   "outputs": [
    {
     "data": {
      "text/html": [
       "<div>\n",
       "<style scoped>\n",
       "    .dataframe tbody tr th:only-of-type {\n",
       "        vertical-align: middle;\n",
       "    }\n",
       "\n",
       "    .dataframe tbody tr th {\n",
       "        vertical-align: top;\n",
       "    }\n",
       "\n",
       "    .dataframe thead th {\n",
       "        text-align: right;\n",
       "    }\n",
       "</style>\n",
       "<table border=\"1\" class=\"dataframe\">\n",
       "  <thead>\n",
       "    <tr style=\"text-align: right;\">\n",
       "      <th></th>\n",
       "      <th>Id</th>\n",
       "      <th>Predicted</th>\n",
       "    </tr>\n",
       "  </thead>\n",
       "  <tbody>\n",
       "    <tr>\n",
       "      <th>0</th>\n",
       "      <td>2021-11-01:BID</td>\n",
       "      <td>0.0</td>\n",
       "    </tr>\n",
       "    <tr>\n",
       "      <th>1</th>\n",
       "      <td>2021-11-02:BID</td>\n",
       "      <td>0.0</td>\n",
       "    </tr>\n",
       "    <tr>\n",
       "      <th>2</th>\n",
       "      <td>2021-11-03:BID</td>\n",
       "      <td>0.0</td>\n",
       "    </tr>\n",
       "    <tr>\n",
       "      <th>3</th>\n",
       "      <td>2021-11-04:BID</td>\n",
       "      <td>0.0</td>\n",
       "    </tr>\n",
       "    <tr>\n",
       "      <th>4</th>\n",
       "      <td>2021-11-05:BID</td>\n",
       "      <td>0.0</td>\n",
       "    </tr>\n",
       "    <tr>\n",
       "      <th>...</th>\n",
       "      <td>...</td>\n",
       "      <td>...</td>\n",
       "    </tr>\n",
       "    <tr>\n",
       "      <th>625</th>\n",
       "      <td>2021-11-23:VRE</td>\n",
       "      <td>0.0</td>\n",
       "    </tr>\n",
       "    <tr>\n",
       "      <th>626</th>\n",
       "      <td>2021-11-24:VRE</td>\n",
       "      <td>0.0</td>\n",
       "    </tr>\n",
       "    <tr>\n",
       "      <th>627</th>\n",
       "      <td>2021-11-25:VRE</td>\n",
       "      <td>0.0</td>\n",
       "    </tr>\n",
       "    <tr>\n",
       "      <th>628</th>\n",
       "      <td>2021-11-26:VRE</td>\n",
       "      <td>0.0</td>\n",
       "    </tr>\n",
       "    <tr>\n",
       "      <th>629</th>\n",
       "      <td>2021-11-29:VRE</td>\n",
       "      <td>0.0</td>\n",
       "    </tr>\n",
       "  </tbody>\n",
       "</table>\n",
       "<p>630 rows × 2 columns</p>\n",
       "</div>"
      ],
      "text/plain": [
       "                 Id  Predicted\n",
       "0    2021-11-01:BID        0.0\n",
       "1    2021-11-02:BID        0.0\n",
       "2    2021-11-03:BID        0.0\n",
       "3    2021-11-04:BID        0.0\n",
       "4    2021-11-05:BID        0.0\n",
       "..              ...        ...\n",
       "625  2021-11-23:VRE        0.0\n",
       "626  2021-11-24:VRE        0.0\n",
       "627  2021-11-25:VRE        0.0\n",
       "628  2021-11-26:VRE        0.0\n",
       "629  2021-11-29:VRE        0.0\n",
       "\n",
       "[630 rows x 2 columns]"
      ]
     },
     "execution_count": 28,
     "metadata": {},
     "output_type": "execute_result"
    }
   ],
   "source": [
    "sub"
   ]
  },
  {
   "cell_type": "code",
   "execution_count": 29,
   "id": "c0ec29e4",
   "metadata": {},
   "outputs": [
    {
     "data": {
      "text/html": [
       "<div>\n",
       "<style scoped>\n",
       "    .dataframe tbody tr th:only-of-type {\n",
       "        vertical-align: middle;\n",
       "    }\n",
       "\n",
       "    .dataframe tbody tr th {\n",
       "        vertical-align: top;\n",
       "    }\n",
       "\n",
       "    .dataframe thead th {\n",
       "        text-align: right;\n",
       "    }\n",
       "</style>\n",
       "<table border=\"1\" class=\"dataframe\">\n",
       "  <thead>\n",
       "    <tr style=\"text-align: right;\">\n",
       "      <th></th>\n",
       "      <th>Id</th>\n",
       "      <th>Predicted</th>\n",
       "    </tr>\n",
       "  </thead>\n",
       "  <tbody>\n",
       "    <tr>\n",
       "      <th>0</th>\n",
       "      <td>2021-11-01:BID</td>\n",
       "      <td>41.384932</td>\n",
       "    </tr>\n",
       "    <tr>\n",
       "      <th>1</th>\n",
       "      <td>2021-11-02:BID</td>\n",
       "      <td>41.388060</td>\n",
       "    </tr>\n",
       "    <tr>\n",
       "      <th>2</th>\n",
       "      <td>2021-11-03:BID</td>\n",
       "      <td>41.390954</td>\n",
       "    </tr>\n",
       "    <tr>\n",
       "      <th>3</th>\n",
       "      <td>2021-11-04:BID</td>\n",
       "      <td>41.394164</td>\n",
       "    </tr>\n",
       "    <tr>\n",
       "      <th>4</th>\n",
       "      <td>2021-11-05:BID</td>\n",
       "      <td>41.397259</td>\n",
       "    </tr>\n",
       "    <tr>\n",
       "      <th>...</th>\n",
       "      <td>...</td>\n",
       "      <td>...</td>\n",
       "    </tr>\n",
       "    <tr>\n",
       "      <th>625</th>\n",
       "      <td>2021-11-23:VRE</td>\n",
       "      <td>31.631350</td>\n",
       "    </tr>\n",
       "    <tr>\n",
       "      <th>626</th>\n",
       "      <td>2021-11-24:VRE</td>\n",
       "      <td>31.642085</td>\n",
       "    </tr>\n",
       "    <tr>\n",
       "      <th>627</th>\n",
       "      <td>2021-11-25:VRE</td>\n",
       "      <td>31.649015</td>\n",
       "    </tr>\n",
       "    <tr>\n",
       "      <th>628</th>\n",
       "      <td>2021-11-26:VRE</td>\n",
       "      <td>31.654097</td>\n",
       "    </tr>\n",
       "    <tr>\n",
       "      <th>629</th>\n",
       "      <td>2021-11-29:VRE</td>\n",
       "      <td>31.668307</td>\n",
       "    </tr>\n",
       "  </tbody>\n",
       "</table>\n",
       "<p>630 rows × 2 columns</p>\n",
       "</div>"
      ],
      "text/plain": [
       "                 Id  Predicted\n",
       "0    2021-11-01:BID  41.384932\n",
       "1    2021-11-02:BID  41.388060\n",
       "2    2021-11-03:BID  41.390954\n",
       "3    2021-11-04:BID  41.394164\n",
       "4    2021-11-05:BID  41.397259\n",
       "..              ...        ...\n",
       "625  2021-11-23:VRE  31.631350\n",
       "626  2021-11-24:VRE  31.642085\n",
       "627  2021-11-25:VRE  31.649015\n",
       "628  2021-11-26:VRE  31.654097\n",
       "629  2021-11-29:VRE  31.668307\n",
       "\n",
       "[630 rows x 2 columns]"
      ]
     },
     "execution_count": 29,
     "metadata": {},
     "output_type": "execute_result"
    }
   ],
   "source": [
    "# substitute fake values to predictions\n",
    "sub['Predicted'] = y_pred\n",
    "sub"
   ]
  },
  {
   "cell_type": "code",
   "execution_count": 30,
   "id": "d7836b51",
   "metadata": {},
   "outputs": [],
   "source": [
    "# make a submission \n",
    "# with adjusted ensembling weights (Public: 4.25316, Private: 4.58788)\n",
    "sub.to_csv('my_sub.csv', index=False)"
   ]
  }
 ],
 "metadata": {
  "kernelspec": {
   "display_name": "Python 3 (ipykernel)",
   "language": "python",
   "name": "python3"
  },
  "language_info": {
   "codemirror_mode": {
    "name": "ipython",
    "version": 3
   },
   "file_extension": ".py",
   "mimetype": "text/x-python",
   "name": "python",
   "nbconvert_exporter": "python",
   "pygments_lexer": "ipython3",
   "version": "3.8.8"
  },
  "widgets": {
   "application/vnd.jupyter.widget-state+json": {
    "state": {
     "01d4967d95df4706a54bb826ead11b3c": {
      "model_module": "@jupyter-widgets/controls",
      "model_module_version": "1.5.0",
      "model_name": "FloatProgressModel",
      "state": {
       "bar_style": "success",
       "layout": "IPY_MODEL_6aad8cb91dd547c99178557d16467a2e",
       "max": 5,
       "style": "IPY_MODEL_69b9772a246547d8b365361a32791fd2",
       "value": 5
      }
     },
     "041115cc0ae9472aa9626c62ba55b9f9": {
      "model_module": "@jupyter-widgets/controls",
      "model_module_version": "1.5.0",
      "model_name": "HTMLModel",
      "state": {
       "layout": "IPY_MODEL_2e7fa43e793046b8a6177a29da9015fa",
       "style": "IPY_MODEL_aac8558e0982492ab356e9bd90372869",
       "value": " 1/5 [03:24&lt;02:25, 36.46s/it]"
      }
     },
     "0d5a873441fc4f1aa1f84dbb03e7b2a4": {
      "model_module": "@jupyter-widgets/base",
      "model_module_version": "1.2.0",
      "model_name": "LayoutModel",
      "state": {}
     },
     "0da982fd26f6477898811f2c69baf5d6": {
      "model_module": "@jupyter-widgets/controls",
      "model_module_version": "1.5.0",
      "model_name": "DescriptionStyleModel",
      "state": {
       "description_width": ""
      }
     },
     "0e7871e56ae34d6584d6112fe3f2b600": {
      "model_module": "@jupyter-widgets/base",
      "model_module_version": "1.2.0",
      "model_name": "LayoutModel",
      "state": {}
     },
     "1146dcaf71eb405c887bd86400df97c4": {
      "model_module": "@jupyter-widgets/controls",
      "model_module_version": "1.5.0",
      "model_name": "HTMLModel",
      "state": {
       "layout": "IPY_MODEL_dab27adda7d440c792f6765f23ef7612",
       "style": "IPY_MODEL_1df49df8bbfd4615848a3126ef784550",
       "value": "100%"
      }
     },
     "13cf9619166841caad8aa50b8ed5411f": {
      "model_module": "@jupyter-widgets/base",
      "model_module_version": "1.2.0",
      "model_name": "LayoutModel",
      "state": {}
     },
     "15333d1b89fb4136b4823f3114e0d1d3": {
      "model_module": "@jupyter-widgets/controls",
      "model_module_version": "1.5.0",
      "model_name": "DescriptionStyleModel",
      "state": {
       "description_width": ""
      }
     },
     "1764a03522f747bebc46a4457913191f": {
      "model_module": "@jupyter-widgets/controls",
      "model_module_version": "1.5.0",
      "model_name": "DescriptionStyleModel",
      "state": {
       "description_width": ""
      }
     },
     "1b24c100c5bf402cbdcca73727863618": {
      "model_module": "@jupyter-widgets/controls",
      "model_module_version": "1.5.0",
      "model_name": "HTMLModel",
      "state": {
       "layout": "IPY_MODEL_63a0781900c543ad9f5d296802a38f76",
       "style": "IPY_MODEL_6e422cc859aa4897b6170c43fc5b215c",
       "value": " 20%"
      }
     },
     "1df49df8bbfd4615848a3126ef784550": {
      "model_module": "@jupyter-widgets/controls",
      "model_module_version": "1.5.0",
      "model_name": "DescriptionStyleModel",
      "state": {
       "description_width": ""
      }
     },
     "1e88bf74e57d4622b837c350155b88a9": {
      "model_module": "@jupyter-widgets/base",
      "model_module_version": "1.2.0",
      "model_name": "LayoutModel",
      "state": {}
     },
     "20abd70d96014c6793f3bc0febe8897d": {
      "model_module": "@jupyter-widgets/controls",
      "model_module_version": "1.5.0",
      "model_name": "DescriptionStyleModel",
      "state": {
       "description_width": ""
      }
     },
     "22d51ce475594aabb57af90e8572037b": {
      "model_module": "@jupyter-widgets/base",
      "model_module_version": "1.2.0",
      "model_name": "LayoutModel",
      "state": {}
     },
     "246dbc605f6f40568eccf7518b065f3a": {
      "model_module": "@jupyter-widgets/controls",
      "model_module_version": "1.5.0",
      "model_name": "HTMLModel",
      "state": {
       "layout": "IPY_MODEL_51b5abc3a79645d2aa999df7c0194e4b",
       "style": "IPY_MODEL_20abd70d96014c6793f3bc0febe8897d",
       "value": "  0%"
      }
     },
     "24ca1975ef1c4a1399a8179d0bd684f2": {
      "model_module": "@jupyter-widgets/base",
      "model_module_version": "1.2.0",
      "model_name": "LayoutModel",
      "state": {}
     },
     "257041effa834f609abfc63b67a0ea06": {
      "model_module": "@jupyter-widgets/controls",
      "model_module_version": "1.5.0",
      "model_name": "ProgressStyleModel",
      "state": {
       "description_width": ""
      }
     },
     "2e444b06bcc348df9ed312bf1b77c3a9": {
      "model_module": "@jupyter-widgets/controls",
      "model_module_version": "1.5.0",
      "model_name": "HBoxModel",
      "state": {
       "children": [
        "IPY_MODEL_1146dcaf71eb405c887bd86400df97c4",
        "IPY_MODEL_c23cd5d31f6846829aba4136ccd67e23",
        "IPY_MODEL_3f25a001453846c1a2acc9e296f9c11d"
       ],
       "layout": "IPY_MODEL_e647f04468114f6faf902f971ce98ad8"
      }
     },
     "2e7fa43e793046b8a6177a29da9015fa": {
      "model_module": "@jupyter-widgets/base",
      "model_module_version": "1.2.0",
      "model_name": "LayoutModel",
      "state": {}
     },
     "30a8bfd508e248f8b6c6cb1e0929c3dc": {
      "model_module": "@jupyter-widgets/controls",
      "model_module_version": "1.5.0",
      "model_name": "FloatProgressModel",
      "state": {
       "bar_style": "danger",
       "layout": "IPY_MODEL_99fde2ed8a6d4481b46fee7bb4433f85",
       "max": 5,
       "style": "IPY_MODEL_4eaafb945f84440cbdd8a1f98aa68d2b",
       "value": 1
      }
     },
     "363ae58a97a44878baeab4817f95f8a4": {
      "model_module": "@jupyter-widgets/base",
      "model_module_version": "1.2.0",
      "model_name": "LayoutModel",
      "state": {}
     },
     "39ca9198457e49348c3fdc0c2806fa7d": {
      "model_module": "@jupyter-widgets/controls",
      "model_module_version": "1.5.0",
      "model_name": "HBoxModel",
      "state": {
       "children": [
        "IPY_MODEL_7d945076ee95426cbc23a86bf2d6de06",
        "IPY_MODEL_6fe7858c771d4b8784495f460a60417e",
        "IPY_MODEL_c5a897dffa6b4b00a6907cc7f9c7962a"
       ],
       "layout": "IPY_MODEL_5b32feb313bd4d388b6949460e217d4a"
      }
     },
     "3accfe7359e54454adad989f7b6b3bd6": {
      "model_module": "@jupyter-widgets/controls",
      "model_module_version": "1.5.0",
      "model_name": "HTMLModel",
      "state": {
       "layout": "IPY_MODEL_22d51ce475594aabb57af90e8572037b",
       "style": "IPY_MODEL_1764a03522f747bebc46a4457913191f",
       "value": " 5/5 [03:57&lt;00:00, 50.44s/it]"
      }
     },
     "3ae129e1d9af45229546529905558924": {
      "model_module": "@jupyter-widgets/controls",
      "model_module_version": "1.5.0",
      "model_name": "HTMLModel",
      "state": {
       "layout": "IPY_MODEL_9176912556984c4db1c9eba06a9b65c9",
       "style": "IPY_MODEL_9ad33c1a528543a09ee3d816c8e7e2f8",
       "value": " 5/5 [04:09&lt;00:00, 52.16s/it]"
      }
     },
     "3bff68994a644f30a450ef555c2ab03a": {
      "model_module": "@jupyter-widgets/controls",
      "model_module_version": "1.5.0",
      "model_name": "HBoxModel",
      "state": {
       "children": [
        "IPY_MODEL_be0e2bc1fbaa4df59f9188da491ac5d8",
        "IPY_MODEL_01d4967d95df4706a54bb826ead11b3c",
        "IPY_MODEL_3ae129e1d9af45229546529905558924"
       ],
       "layout": "IPY_MODEL_798be5cd31f24ab69230e27384e5e7fa"
      }
     },
     "3d5039e1de594ae3ae40b11e60facab4": {
      "model_module": "@jupyter-widgets/controls",
      "model_module_version": "1.5.0",
      "model_name": "DescriptionStyleModel",
      "state": {
       "description_width": ""
      }
     },
     "3e02eef9f31b41deac4b92e797f9177d": {
      "model_module": "@jupyter-widgets/base",
      "model_module_version": "1.2.0",
      "model_name": "LayoutModel",
      "state": {}
     },
     "3f25a001453846c1a2acc9e296f9c11d": {
      "model_module": "@jupyter-widgets/controls",
      "model_module_version": "1.5.0",
      "model_name": "HTMLModel",
      "state": {
       "layout": "IPY_MODEL_4cc121e46f504cbbb4d6569d01ceaec5",
       "style": "IPY_MODEL_e857e636992e4f0981bfd9d53232ff32",
       "value": " 5/5 [05:53&lt;00:00, 77.53s/it]"
      }
     },
     "4cc121e46f504cbbb4d6569d01ceaec5": {
      "model_module": "@jupyter-widgets/base",
      "model_module_version": "1.2.0",
      "model_name": "LayoutModel",
      "state": {}
     },
     "4d7dfe86804b435e9ce5827050412b75": {
      "model_module": "@jupyter-widgets/controls",
      "model_module_version": "1.5.0",
      "model_name": "FloatProgressModel",
      "state": {
       "bar_style": "danger",
       "layout": "IPY_MODEL_c21769e7a38c4ffbb479f6cc7cbfbf64",
       "max": 5,
       "style": "IPY_MODEL_b9b1bf3b72fb4d38b8823b2fb9c6d5e9"
      }
     },
     "4eaafb945f84440cbdd8a1f98aa68d2b": {
      "model_module": "@jupyter-widgets/controls",
      "model_module_version": "1.5.0",
      "model_name": "ProgressStyleModel",
      "state": {
       "description_width": ""
      }
     },
     "51b5abc3a79645d2aa999df7c0194e4b": {
      "model_module": "@jupyter-widgets/base",
      "model_module_version": "1.2.0",
      "model_name": "LayoutModel",
      "state": {}
     },
     "52647c9ac26f4850a4c66947661c2ad2": {
      "model_module": "@jupyter-widgets/base",
      "model_module_version": "1.2.0",
      "model_name": "LayoutModel",
      "state": {}
     },
     "58744f8e77144d65a855e1d27d4f4a55": {
      "model_module": "@jupyter-widgets/base",
      "model_module_version": "1.2.0",
      "model_name": "LayoutModel",
      "state": {}
     },
     "59ae39926c4e43f6ab7f7e0a8b4f3741": {
      "model_module": "@jupyter-widgets/controls",
      "model_module_version": "1.5.0",
      "model_name": "HTMLModel",
      "state": {
       "layout": "IPY_MODEL_1e88bf74e57d4622b837c350155b88a9",
       "style": "IPY_MODEL_b37633b40b0040f99913d403b582829b",
       "value": "  0%"
      }
     },
     "5a071f0e4505491c805dfa4713775621": {
      "model_module": "@jupyter-widgets/controls",
      "model_module_version": "1.5.0",
      "model_name": "HTMLModel",
      "state": {
       "layout": "IPY_MODEL_3e02eef9f31b41deac4b92e797f9177d",
       "style": "IPY_MODEL_b03fed8250704c12a40dbc23ee51a11b",
       "value": "100%"
      }
     },
     "5a742fb83d1644e8a47e31d779075a52": {
      "model_module": "@jupyter-widgets/base",
      "model_module_version": "1.2.0",
      "model_name": "LayoutModel",
      "state": {}
     },
     "5b32feb313bd4d388b6949460e217d4a": {
      "model_module": "@jupyter-widgets/base",
      "model_module_version": "1.2.0",
      "model_name": "LayoutModel",
      "state": {}
     },
     "63a0781900c543ad9f5d296802a38f76": {
      "model_module": "@jupyter-widgets/base",
      "model_module_version": "1.2.0",
      "model_name": "LayoutModel",
      "state": {}
     },
     "691066e6ed0d4e09b105f2b7db01c228": {
      "model_module": "@jupyter-widgets/base",
      "model_module_version": "1.2.0",
      "model_name": "LayoutModel",
      "state": {}
     },
     "69b9772a246547d8b365361a32791fd2": {
      "model_module": "@jupyter-widgets/controls",
      "model_module_version": "1.5.0",
      "model_name": "ProgressStyleModel",
      "state": {
       "description_width": ""
      }
     },
     "6aad8cb91dd547c99178557d16467a2e": {
      "model_module": "@jupyter-widgets/base",
      "model_module_version": "1.2.0",
      "model_name": "LayoutModel",
      "state": {}
     },
     "6d8649259e0e41fa9741c0c83e2f7214": {
      "model_module": "@jupyter-widgets/base",
      "model_module_version": "1.2.0",
      "model_name": "LayoutModel",
      "state": {}
     },
     "6e422cc859aa4897b6170c43fc5b215c": {
      "model_module": "@jupyter-widgets/controls",
      "model_module_version": "1.5.0",
      "model_name": "DescriptionStyleModel",
      "state": {
       "description_width": ""
      }
     },
     "6fe7858c771d4b8784495f460a60417e": {
      "model_module": "@jupyter-widgets/controls",
      "model_module_version": "1.5.0",
      "model_name": "FloatProgressModel",
      "state": {
       "bar_style": "danger",
       "layout": "IPY_MODEL_ed581f7086614dee9f4611aafacc1937",
       "max": 5,
       "style": "IPY_MODEL_7352d9f6b7724fdb89cfac252ef7dca7",
       "value": 2
      }
     },
     "7352d9f6b7724fdb89cfac252ef7dca7": {
      "model_module": "@jupyter-widgets/controls",
      "model_module_version": "1.5.0",
      "model_name": "ProgressStyleModel",
      "state": {
       "description_width": ""
      }
     },
     "7811c1d319cb4ed68ccfe757e2393d3e": {
      "model_module": "@jupyter-widgets/controls",
      "model_module_version": "1.5.0",
      "model_name": "DescriptionStyleModel",
      "state": {
       "description_width": ""
      }
     },
     "798be5cd31f24ab69230e27384e5e7fa": {
      "model_module": "@jupyter-widgets/base",
      "model_module_version": "1.2.0",
      "model_name": "LayoutModel",
      "state": {}
     },
     "7d945076ee95426cbc23a86bf2d6de06": {
      "model_module": "@jupyter-widgets/controls",
      "model_module_version": "1.5.0",
      "model_name": "HTMLModel",
      "state": {
       "layout": "IPY_MODEL_58744f8e77144d65a855e1d27d4f4a55",
       "style": "IPY_MODEL_15333d1b89fb4136b4823f3114e0d1d3",
       "value": " 40%"
      }
     },
     "80706e987f084f48aec1f41cd2eb5393": {
      "model_module": "@jupyter-widgets/base",
      "model_module_version": "1.2.0",
      "model_name": "LayoutModel",
      "state": {}
     },
     "82ead5fcb1144285ab13289f52aef4ae": {
      "model_module": "@jupyter-widgets/base",
      "model_module_version": "1.2.0",
      "model_name": "LayoutModel",
      "state": {}
     },
     "864e06e0d2a24739b4bbd7e7b584f475": {
      "model_module": "@jupyter-widgets/controls",
      "model_module_version": "1.5.0",
      "model_name": "ProgressStyleModel",
      "state": {
       "description_width": ""
      }
     },
     "86555ace1c9844dbac672b5770969d1b": {
      "model_module": "@jupyter-widgets/controls",
      "model_module_version": "1.5.0",
      "model_name": "ProgressStyleModel",
      "state": {
       "description_width": ""
      }
     },
     "8ab735f2437f40da92290469bb45d02e": {
      "model_module": "@jupyter-widgets/controls",
      "model_module_version": "1.5.0",
      "model_name": "FloatProgressModel",
      "state": {
       "bar_style": "success",
       "layout": "IPY_MODEL_691066e6ed0d4e09b105f2b7db01c228",
       "max": 5,
       "style": "IPY_MODEL_86555ace1c9844dbac672b5770969d1b",
       "value": 5
      }
     },
     "8f4f774289664b48ba06f7fc54e5836c": {
      "model_module": "@jupyter-widgets/controls",
      "model_module_version": "1.5.0",
      "model_name": "FloatProgressModel",
      "state": {
       "bar_style": "danger",
       "layout": "IPY_MODEL_52647c9ac26f4850a4c66947661c2ad2",
       "max": 5,
       "style": "IPY_MODEL_257041effa834f609abfc63b67a0ea06"
      }
     },
     "9176912556984c4db1c9eba06a9b65c9": {
      "model_module": "@jupyter-widgets/base",
      "model_module_version": "1.2.0",
      "model_name": "LayoutModel",
      "state": {}
     },
     "91e9d9581abc48b3b59f345c9850da98": {
      "model_module": "@jupyter-widgets/controls",
      "model_module_version": "1.5.0",
      "model_name": "FloatProgressModel",
      "state": {
       "bar_style": "success",
       "layout": "IPY_MODEL_9e8bf689c5834feab0cd8010ac535dea",
       "max": 5,
       "style": "IPY_MODEL_864e06e0d2a24739b4bbd7e7b584f475",
       "value": 5
      }
     },
     "943608710f8e4a6283eade33aaf3e207": {
      "model_module": "@jupyter-widgets/base",
      "model_module_version": "1.2.0",
      "model_name": "LayoutModel",
      "state": {}
     },
     "94609a9ae980411d9df46eec718bc534": {
      "model_module": "@jupyter-widgets/base",
      "model_module_version": "1.2.0",
      "model_name": "LayoutModel",
      "state": {}
     },
     "97e23dd41e5a4690b1d3bab27bbd4b32": {
      "model_module": "@jupyter-widgets/controls",
      "model_module_version": "1.5.0",
      "model_name": "HTMLModel",
      "state": {
       "layout": "IPY_MODEL_363ae58a97a44878baeab4817f95f8a4",
       "style": "IPY_MODEL_0da982fd26f6477898811f2c69baf5d6",
       "value": "100%"
      }
     },
     "99fde2ed8a6d4481b46fee7bb4433f85": {
      "model_module": "@jupyter-widgets/base",
      "model_module_version": "1.2.0",
      "model_name": "LayoutModel",
      "state": {}
     },
     "9ad33c1a528543a09ee3d816c8e7e2f8": {
      "model_module": "@jupyter-widgets/controls",
      "model_module_version": "1.5.0",
      "model_name": "DescriptionStyleModel",
      "state": {
       "description_width": ""
      }
     },
     "9e8bf689c5834feab0cd8010ac535dea": {
      "model_module": "@jupyter-widgets/base",
      "model_module_version": "1.2.0",
      "model_name": "LayoutModel",
      "state": {}
     },
     "a0a62365901b435ebeb419cc223c8e78": {
      "model_module": "@jupyter-widgets/controls",
      "model_module_version": "1.5.0",
      "model_name": "HBoxModel",
      "state": {
       "children": [
        "IPY_MODEL_246dbc605f6f40568eccf7518b065f3a",
        "IPY_MODEL_4d7dfe86804b435e9ce5827050412b75",
        "IPY_MODEL_cc478fbceff54930bcf06dcf51f13072"
       ],
       "layout": "IPY_MODEL_94609a9ae980411d9df46eec718bc534"
      }
     },
     "a2903230c0124ead910b637fab3b6b01": {
      "model_module": "@jupyter-widgets/controls",
      "model_module_version": "1.5.0",
      "model_name": "HBoxModel",
      "state": {
       "children": [
        "IPY_MODEL_5a071f0e4505491c805dfa4713775621",
        "IPY_MODEL_91e9d9581abc48b3b59f345c9850da98",
        "IPY_MODEL_3accfe7359e54454adad989f7b6b3bd6"
       ],
       "layout": "IPY_MODEL_24ca1975ef1c4a1399a8179d0bd684f2"
      }
     },
     "a5536d79bdff4fbf9d8767a618e196fa": {
      "model_module": "@jupyter-widgets/controls",
      "model_module_version": "1.5.0",
      "model_name": "DescriptionStyleModel",
      "state": {
       "description_width": ""
      }
     },
     "a796e31561824388875a7c2db1fbbf8b": {
      "model_module": "@jupyter-widgets/controls",
      "model_module_version": "1.5.0",
      "model_name": "ProgressStyleModel",
      "state": {
       "description_width": ""
      }
     },
     "aac8558e0982492ab356e9bd90372869": {
      "model_module": "@jupyter-widgets/controls",
      "model_module_version": "1.5.0",
      "model_name": "DescriptionStyleModel",
      "state": {
       "description_width": ""
      }
     },
     "b03fed8250704c12a40dbc23ee51a11b": {
      "model_module": "@jupyter-widgets/controls",
      "model_module_version": "1.5.0",
      "model_name": "DescriptionStyleModel",
      "state": {
       "description_width": ""
      }
     },
     "b37633b40b0040f99913d403b582829b": {
      "model_module": "@jupyter-widgets/controls",
      "model_module_version": "1.5.0",
      "model_name": "DescriptionStyleModel",
      "state": {
       "description_width": ""
      }
     },
     "b470e23c4659450e86cc4bad12bab7a6": {
      "model_module": "@jupyter-widgets/controls",
      "model_module_version": "1.5.0",
      "model_name": "DescriptionStyleModel",
      "state": {
       "description_width": ""
      }
     },
     "b9b1bf3b72fb4d38b8823b2fb9c6d5e9": {
      "model_module": "@jupyter-widgets/controls",
      "model_module_version": "1.5.0",
      "model_name": "ProgressStyleModel",
      "state": {
       "description_width": ""
      }
     },
     "be0e2bc1fbaa4df59f9188da491ac5d8": {
      "model_module": "@jupyter-widgets/controls",
      "model_module_version": "1.5.0",
      "model_name": "HTMLModel",
      "state": {
       "layout": "IPY_MODEL_6d8649259e0e41fa9741c0c83e2f7214",
       "style": "IPY_MODEL_7811c1d319cb4ed68ccfe757e2393d3e",
       "value": "100%"
      }
     },
     "bfb1c14c9a0143fb9988ef3f6b421da8": {
      "model_module": "@jupyter-widgets/controls",
      "model_module_version": "1.5.0",
      "model_name": "HBoxModel",
      "state": {
       "children": [
        "IPY_MODEL_59ae39926c4e43f6ab7f7e0a8b4f3741",
        "IPY_MODEL_8f4f774289664b48ba06f7fc54e5836c",
        "IPY_MODEL_cc75d7153bff452ea5b8348f976d320a"
       ],
       "layout": "IPY_MODEL_80706e987f084f48aec1f41cd2eb5393"
      }
     },
     "c0317f0a44be47f3af2e2a7182915300": {
      "model_module": "@jupyter-widgets/base",
      "model_module_version": "1.2.0",
      "model_name": "LayoutModel",
      "state": {}
     },
     "c21769e7a38c4ffbb479f6cc7cbfbf64": {
      "model_module": "@jupyter-widgets/base",
      "model_module_version": "1.2.0",
      "model_name": "LayoutModel",
      "state": {}
     },
     "c23cd5d31f6846829aba4136ccd67e23": {
      "model_module": "@jupyter-widgets/controls",
      "model_module_version": "1.5.0",
      "model_name": "FloatProgressModel",
      "state": {
       "bar_style": "success",
       "layout": "IPY_MODEL_0d5a873441fc4f1aa1f84dbb03e7b2a4",
       "max": 5,
       "style": "IPY_MODEL_a796e31561824388875a7c2db1fbbf8b",
       "value": 5
      }
     },
     "c5a897dffa6b4b00a6907cc7f9c7962a": {
      "model_module": "@jupyter-widgets/controls",
      "model_module_version": "1.5.0",
      "model_name": "HTMLModel",
      "state": {
       "layout": "IPY_MODEL_13cf9619166841caad8aa50b8ed5411f",
       "style": "IPY_MODEL_b470e23c4659450e86cc4bad12bab7a6",
       "value": " 2/5 [02:22&lt;02:58, 59.62s/it]"
      }
     },
     "c8b918ef53e94b8fbdb434f91b0c1c57": {
      "model_module": "@jupyter-widgets/controls",
      "model_module_version": "1.5.0",
      "model_name": "DescriptionStyleModel",
      "state": {
       "description_width": ""
      }
     },
     "cba15093f5d54ac69ef9ec7ba404080d": {
      "model_module": "@jupyter-widgets/controls",
      "model_module_version": "1.5.0",
      "model_name": "HBoxModel",
      "state": {
       "children": [
        "IPY_MODEL_97e23dd41e5a4690b1d3bab27bbd4b32",
        "IPY_MODEL_8ab735f2437f40da92290469bb45d02e",
        "IPY_MODEL_eebf6d2035674f37ad8a4d65b0c76e6c"
       ],
       "layout": "IPY_MODEL_0e7871e56ae34d6584d6112fe3f2b600"
      }
     },
     "cc478fbceff54930bcf06dcf51f13072": {
      "model_module": "@jupyter-widgets/controls",
      "model_module_version": "1.5.0",
      "model_name": "HTMLModel",
      "state": {
       "layout": "IPY_MODEL_5a742fb83d1644e8a47e31d779075a52",
       "style": "IPY_MODEL_a5536d79bdff4fbf9d8767a618e196fa",
       "value": " 0/5 [00:00&lt;?, ?it/s]"
      }
     },
     "cc75d7153bff452ea5b8348f976d320a": {
      "model_module": "@jupyter-widgets/controls",
      "model_module_version": "1.5.0",
      "model_name": "HTMLModel",
      "state": {
       "layout": "IPY_MODEL_943608710f8e4a6283eade33aaf3e207",
       "style": "IPY_MODEL_c8b918ef53e94b8fbdb434f91b0c1c57",
       "value": " 0/5 [00:33&lt;?, ?it/s]"
      }
     },
     "dab27adda7d440c792f6765f23ef7612": {
      "model_module": "@jupyter-widgets/base",
      "model_module_version": "1.2.0",
      "model_name": "LayoutModel",
      "state": {}
     },
     "e647f04468114f6faf902f971ce98ad8": {
      "model_module": "@jupyter-widgets/base",
      "model_module_version": "1.2.0",
      "model_name": "LayoutModel",
      "state": {}
     },
     "e857e636992e4f0981bfd9d53232ff32": {
      "model_module": "@jupyter-widgets/controls",
      "model_module_version": "1.5.0",
      "model_name": "DescriptionStyleModel",
      "state": {
       "description_width": ""
      }
     },
     "ecfddbff794b439aacd4ba9c9dde6e23": {
      "model_module": "@jupyter-widgets/controls",
      "model_module_version": "1.5.0",
      "model_name": "HBoxModel",
      "state": {
       "children": [
        "IPY_MODEL_1b24c100c5bf402cbdcca73727863618",
        "IPY_MODEL_30a8bfd508e248f8b6c6cb1e0929c3dc",
        "IPY_MODEL_041115cc0ae9472aa9626c62ba55b9f9"
       ],
       "layout": "IPY_MODEL_82ead5fcb1144285ab13289f52aef4ae"
      }
     },
     "ed581f7086614dee9f4611aafacc1937": {
      "model_module": "@jupyter-widgets/base",
      "model_module_version": "1.2.0",
      "model_name": "LayoutModel",
      "state": {}
     },
     "eebf6d2035674f37ad8a4d65b0c76e6c": {
      "model_module": "@jupyter-widgets/controls",
      "model_module_version": "1.5.0",
      "model_name": "HTMLModel",
      "state": {
       "layout": "IPY_MODEL_c0317f0a44be47f3af2e2a7182915300",
       "style": "IPY_MODEL_3d5039e1de594ae3ae40b11e60facab4",
       "value": " 5/5 [05:35&lt;00:00, 70.39s/it]"
      }
     }
    },
    "version_major": 2,
    "version_minor": 0
   }
  }
 },
 "nbformat": 4,
 "nbformat_minor": 5
}
